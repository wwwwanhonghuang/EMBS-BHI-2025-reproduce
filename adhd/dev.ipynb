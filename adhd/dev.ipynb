{
 "cells": [
  {
   "cell_type": "code",
   "execution_count": null,
   "id": "940c9a5d",
   "metadata": {},
   "outputs": [],
   "source": [
    "import os, sys\n",
    "import numpy as np\n",
    "import mne\n",
    "sys.path.append(\"../third_parts/microstate_lib/code\")\n",
    "import eeg_recording\n",
    "\n",
    "data_list = os.listdir(\"./data/adhd_control_preprocessed\")"
   ]
  },
  {
   "cell_type": "code",
   "execution_count": 53,
   "id": "5a6c5ab5",
   "metadata": {},
   "outputs": [],
   "source": [
    "\n",
    "from collections import defaultdict\n",
    "\n",
    "grouped_list = defaultdict(list)\n",
    "\n",
    "for item in data_list:\n",
    "    if item:  # Ensure item is not None or empty\n",
    "        key = item[0]  # 'A' or 'C'\n",
    "        number_str = (item[1:-4])\n",
    "        number = f\"{int(number_str):02}\"\n",
    "        grouped_list[key].append(key + number + \".fif\")\n"
   ]
  },
  {
   "cell_type": "code",
   "execution_count": 54,
   "id": "57a474d6",
   "metadata": {},
   "outputs": [],
   "source": [
    "samples = grouped_list['A']"
   ]
  },
  {
   "cell_type": "code",
   "execution_count": null,
   "id": "853c21ec",
   "metadata": {},
   "outputs": [],
   "source": []
  },
  {
   "cell_type": "code",
   "execution_count": null,
   "id": "483ce3eb",
   "metadata": {},
   "outputs": [
    {
     "name": "stdout",
     "output_type": "stream",
     "text": [
      "Opening raw data file ./data/adhd_control_preprocessed/A16.fif...\n",
      "    Range : 0 ... 28879 =      0.000 ...   225.617 secs\n",
      "Ready.\n",
      "Opening raw data file ./data/adhd_control_preprocessed/A59.fif...\n",
      "    Range : 0 ... 15382 =      0.000 ...   120.172 secs\n",
      "Ready.\n",
      "Opening raw data file ./data/adhd_control_preprocessed/A53.fif...\n",
      "    Range : 0 ... 10476 =      0.000 ...    81.844 secs\n",
      "Ready.\n",
      "Opening raw data file ./data/adhd_control_preprocessed/A02.fif...\n",
      "    Range : 0 ... 33569 =      0.000 ...   262.258 secs\n",
      "Ready.\n",
      "Opening raw data file ./data/adhd_control_preprocessed/A22.fif...\n",
      "    Range : 0 ... 29216 =      0.000 ...   228.250 secs\n",
      "Ready.\n",
      "Opening raw data file ./data/adhd_control_preprocessed/A34.fif...\n",
      "    Range : 0 ... 18590 =      0.000 ...   145.234 secs\n",
      "Ready.\n",
      "Opening raw data file ./data/adhd_control_preprocessed/A52.fif...\n",
      "    Range : 0 ... 13852 =      0.000 ...   108.219 secs\n",
      "Ready.\n",
      "Opening raw data file ./data/adhd_control_preprocessed/A05.fif...\n",
      "    Range : 0 ... 14303 =      0.000 ...   111.742 secs\n",
      "Ready.\n",
      "Opening raw data file ./data/adhd_control_preprocessed/A54.fif...\n",
      "    Range : 0 ... 18656 =      0.000 ...   145.750 secs\n",
      "Ready.\n",
      "Opening raw data file ./data/adhd_control_preprocessed/A17.fif...\n",
      "    Range : 0 ... 27611 =      0.000 ...   215.711 secs\n",
      "Ready.\n",
      "Opening raw data file ./data/adhd_control_preprocessed/A51.fif...\n",
      "    Range : 0 ... 21306 =      0.000 ...   166.453 secs\n",
      "Ready.\n",
      "Opening raw data file ./data/adhd_control_preprocessed/A19.fif...\n",
      "    Range : 0 ... 21662 =      0.000 ...   169.234 secs\n",
      "Ready.\n",
      "Opening raw data file ./data/adhd_control_preprocessed/A11.fif...\n",
      "    Range : 0 ... 35327 =      0.000 ...   275.992 secs\n",
      "Ready.\n",
      "Opening raw data file ./data/adhd_control_preprocessed/A55.fif...\n",
      "    Range : 0 ... 18388 =      0.000 ...   143.656 secs\n",
      "Ready.\n",
      "Opening raw data file ./data/adhd_control_preprocessed/A03.fif...\n",
      "    Range : 0 ... 17560 =      0.000 ...   137.188 secs\n",
      "Ready.\n",
      "Opening raw data file ./data/adhd_control_preprocessed/A32.fif...\n",
      "    Range : 0 ... 12672 =      0.000 ...    99.000 secs\n",
      "Ready.\n",
      "Opening raw data file ./data/adhd_control_preprocessed/A50.fif...\n",
      "    Range : 0 ... 39029 =      0.000 ...   304.914 secs\n",
      "Ready.\n",
      "Opening raw data file ./data/adhd_control_preprocessed/A08.fif...\n",
      "    Range : 0 ... 43251 =      0.000 ...   337.898 secs\n",
      "Ready.\n",
      "Opening raw data file ./data/adhd_control_preprocessed/A15.fif...\n",
      "    Range : 0 ... 9893 =      0.000 ...    77.289 secs\n",
      "Ready.\n",
      "Opening raw data file ./data/adhd_control_preprocessed/A06.fif...\n",
      "    Range : 0 ... 17603 =      0.000 ...   137.523 secs\n",
      "Ready.\n",
      "Opening raw data file ./data/adhd_control_preprocessed/A27.fif...\n",
      "    Range : 0 ... 24694 =      0.000 ...   192.922 secs\n",
      "Ready.\n",
      "Opening raw data file ./data/adhd_control_preprocessed/A58.fif...\n",
      "    Range : 0 ... 20133 =      0.000 ...   157.289 secs\n",
      "Ready.\n",
      "Opening raw data file ./data/adhd_control_preprocessed/A21.fif...\n",
      "    Range : 0 ... 18048 =      0.000 ...   141.000 secs\n",
      "Ready.\n",
      "Opening raw data file ./data/adhd_control_preprocessed/A33.fif...\n",
      "    Range : 0 ... 10667 =      0.000 ...    83.336 secs\n",
      "Ready.\n",
      "Opening raw data file ./data/adhd_control_preprocessed/A07.fif...\n",
      "    Range : 0 ... 17561 =      0.000 ...   137.195 secs\n",
      "Ready.\n",
      "Opening raw data file ./data/adhd_control_preprocessed/A49.fif...\n",
      "    Range : 0 ... 9851 =      0.000 ...    76.961 secs\n",
      "Ready.\n",
      "Opening raw data file ./data/adhd_control_preprocessed/A30.fif...\n",
      "    Range : 0 ... 24240 =      0.000 ...   189.375 secs\n",
      "Ready.\n",
      "Opening raw data file ./data/adhd_control_preprocessed/A40.fif...\n",
      "    Range : 0 ... 20172 =      0.000 ...   157.594 secs\n",
      "Ready.\n",
      "Opening raw data file ./data/adhd_control_preprocessed/A24.fif...\n",
      "    Range : 0 ... 15304 =      0.000 ...   119.562 secs\n",
      "Ready.\n",
      "Opening raw data file ./data/adhd_control_preprocessed/A20.fif...\n",
      "    Range : 0 ... 11678 =      0.000 ...    91.234 secs\n",
      "Ready.\n",
      "Opening raw data file ./data/adhd_control_preprocessed/A47.fif...\n",
      "    Range : 0 ... 34190 =      0.000 ...   267.109 secs\n",
      "Ready.\n",
      "Opening raw data file ./data/adhd_control_preprocessed/A14.fif...\n",
      "    Range : 0 ... 16384 =      0.000 ...   128.000 secs\n",
      "Ready.\n",
      "Opening raw data file ./data/adhd_control_preprocessed/A41.fif...\n",
      "    Range : 0 ... 30272 =      0.000 ...   236.500 secs\n",
      "Ready.\n",
      "Opening raw data file ./data/adhd_control_preprocessed/A43.fif...\n",
      "    Range : 0 ... 21371 =      0.000 ...   166.961 secs\n",
      "Ready.\n",
      "Opening raw data file ./data/adhd_control_preprocessed/A57.fif...\n",
      "    Range : 0 ... 17322 =      0.000 ...   135.328 secs\n",
      "Ready.\n",
      "Opening raw data file ./data/adhd_control_preprocessed/A29.fif...\n",
      "    Range : 0 ... 20096 =      0.000 ...   157.000 secs\n",
      "Ready.\n",
      "Opening raw data file ./data/adhd_control_preprocessed/A04.fif...\n",
      "    Range : 0 ... 15775 =      0.000 ...   123.242 secs\n",
      "Ready.\n",
      "Opening raw data file ./data/adhd_control_preprocessed/A18.fif...\n",
      "    Range : 0 ... 24192 =      0.000 ...   189.000 secs\n",
      "Ready.\n",
      "Opening raw data file ./data/adhd_control_preprocessed/A09.fif...\n",
      "    Range : 0 ... 25002 =      0.000 ...   195.328 secs\n",
      "Ready.\n",
      "Opening raw data file ./data/adhd_control_preprocessed/A46.fif...\n",
      "    Range : 0 ... 19712 =      0.000 ...   154.000 secs\n",
      "Ready.\n",
      "Opening raw data file ./data/adhd_control_preprocessed/A26.fif...\n"
     ]
    },
    {
     "name": "stderr",
     "output_type": "stream",
     "text": [
      "/tmp/ipykernel_226652/138576087.py:4: RuntimeWarning: This filename (./data/adhd_control_preprocessed/A16.fif) does not conform to MNE naming conventions. All raw files should end with raw.fif, raw_sss.fif, raw_tsss.fif, _meg.fif, _eeg.fif, _ieeg.fif, raw.fif.gz, raw_sss.fif.gz, raw_tsss.fif.gz, _meg.fif.gz, _eeg.fif.gz or _ieeg.fif.gz\n",
      "  results.append(mne.io.read_raw(file_full_path))\n",
      "/tmp/ipykernel_226652/138576087.py:4: RuntimeWarning: This filename (./data/adhd_control_preprocessed/A59.fif) does not conform to MNE naming conventions. All raw files should end with raw.fif, raw_sss.fif, raw_tsss.fif, _meg.fif, _eeg.fif, _ieeg.fif, raw.fif.gz, raw_sss.fif.gz, raw_tsss.fif.gz, _meg.fif.gz, _eeg.fif.gz or _ieeg.fif.gz\n",
      "  results.append(mne.io.read_raw(file_full_path))\n",
      "/tmp/ipykernel_226652/138576087.py:4: RuntimeWarning: This filename (./data/adhd_control_preprocessed/A53.fif) does not conform to MNE naming conventions. All raw files should end with raw.fif, raw_sss.fif, raw_tsss.fif, _meg.fif, _eeg.fif, _ieeg.fif, raw.fif.gz, raw_sss.fif.gz, raw_tsss.fif.gz, _meg.fif.gz, _eeg.fif.gz or _ieeg.fif.gz\n",
      "  results.append(mne.io.read_raw(file_full_path))\n",
      "/tmp/ipykernel_226652/138576087.py:4: RuntimeWarning: This filename (./data/adhd_control_preprocessed/A02.fif) does not conform to MNE naming conventions. All raw files should end with raw.fif, raw_sss.fif, raw_tsss.fif, _meg.fif, _eeg.fif, _ieeg.fif, raw.fif.gz, raw_sss.fif.gz, raw_tsss.fif.gz, _meg.fif.gz, _eeg.fif.gz or _ieeg.fif.gz\n",
      "  results.append(mne.io.read_raw(file_full_path))\n",
      "/tmp/ipykernel_226652/138576087.py:4: RuntimeWarning: This filename (./data/adhd_control_preprocessed/A22.fif) does not conform to MNE naming conventions. All raw files should end with raw.fif, raw_sss.fif, raw_tsss.fif, _meg.fif, _eeg.fif, _ieeg.fif, raw.fif.gz, raw_sss.fif.gz, raw_tsss.fif.gz, _meg.fif.gz, _eeg.fif.gz or _ieeg.fif.gz\n",
      "  results.append(mne.io.read_raw(file_full_path))\n",
      "/tmp/ipykernel_226652/138576087.py:4: RuntimeWarning: This filename (./data/adhd_control_preprocessed/A34.fif) does not conform to MNE naming conventions. All raw files should end with raw.fif, raw_sss.fif, raw_tsss.fif, _meg.fif, _eeg.fif, _ieeg.fif, raw.fif.gz, raw_sss.fif.gz, raw_tsss.fif.gz, _meg.fif.gz, _eeg.fif.gz or _ieeg.fif.gz\n",
      "  results.append(mne.io.read_raw(file_full_path))\n",
      "/tmp/ipykernel_226652/138576087.py:4: RuntimeWarning: This filename (./data/adhd_control_preprocessed/A52.fif) does not conform to MNE naming conventions. All raw files should end with raw.fif, raw_sss.fif, raw_tsss.fif, _meg.fif, _eeg.fif, _ieeg.fif, raw.fif.gz, raw_sss.fif.gz, raw_tsss.fif.gz, _meg.fif.gz, _eeg.fif.gz or _ieeg.fif.gz\n",
      "  results.append(mne.io.read_raw(file_full_path))\n",
      "/tmp/ipykernel_226652/138576087.py:4: RuntimeWarning: This filename (./data/adhd_control_preprocessed/A05.fif) does not conform to MNE naming conventions. All raw files should end with raw.fif, raw_sss.fif, raw_tsss.fif, _meg.fif, _eeg.fif, _ieeg.fif, raw.fif.gz, raw_sss.fif.gz, raw_tsss.fif.gz, _meg.fif.gz, _eeg.fif.gz or _ieeg.fif.gz\n",
      "  results.append(mne.io.read_raw(file_full_path))\n",
      "/tmp/ipykernel_226652/138576087.py:4: RuntimeWarning: This filename (./data/adhd_control_preprocessed/A54.fif) does not conform to MNE naming conventions. All raw files should end with raw.fif, raw_sss.fif, raw_tsss.fif, _meg.fif, _eeg.fif, _ieeg.fif, raw.fif.gz, raw_sss.fif.gz, raw_tsss.fif.gz, _meg.fif.gz, _eeg.fif.gz or _ieeg.fif.gz\n",
      "  results.append(mne.io.read_raw(file_full_path))\n",
      "/tmp/ipykernel_226652/138576087.py:4: RuntimeWarning: This filename (./data/adhd_control_preprocessed/A17.fif) does not conform to MNE naming conventions. All raw files should end with raw.fif, raw_sss.fif, raw_tsss.fif, _meg.fif, _eeg.fif, _ieeg.fif, raw.fif.gz, raw_sss.fif.gz, raw_tsss.fif.gz, _meg.fif.gz, _eeg.fif.gz or _ieeg.fif.gz\n",
      "  results.append(mne.io.read_raw(file_full_path))\n",
      "/tmp/ipykernel_226652/138576087.py:4: RuntimeWarning: This filename (./data/adhd_control_preprocessed/A51.fif) does not conform to MNE naming conventions. All raw files should end with raw.fif, raw_sss.fif, raw_tsss.fif, _meg.fif, _eeg.fif, _ieeg.fif, raw.fif.gz, raw_sss.fif.gz, raw_tsss.fif.gz, _meg.fif.gz, _eeg.fif.gz or _ieeg.fif.gz\n",
      "  results.append(mne.io.read_raw(file_full_path))\n",
      "/tmp/ipykernel_226652/138576087.py:4: RuntimeWarning: This filename (./data/adhd_control_preprocessed/A19.fif) does not conform to MNE naming conventions. All raw files should end with raw.fif, raw_sss.fif, raw_tsss.fif, _meg.fif, _eeg.fif, _ieeg.fif, raw.fif.gz, raw_sss.fif.gz, raw_tsss.fif.gz, _meg.fif.gz, _eeg.fif.gz or _ieeg.fif.gz\n",
      "  results.append(mne.io.read_raw(file_full_path))\n",
      "/tmp/ipykernel_226652/138576087.py:4: RuntimeWarning: This filename (./data/adhd_control_preprocessed/A11.fif) does not conform to MNE naming conventions. All raw files should end with raw.fif, raw_sss.fif, raw_tsss.fif, _meg.fif, _eeg.fif, _ieeg.fif, raw.fif.gz, raw_sss.fif.gz, raw_tsss.fif.gz, _meg.fif.gz, _eeg.fif.gz or _ieeg.fif.gz\n",
      "  results.append(mne.io.read_raw(file_full_path))\n",
      "/tmp/ipykernel_226652/138576087.py:4: RuntimeWarning: This filename (./data/adhd_control_preprocessed/A55.fif) does not conform to MNE naming conventions. All raw files should end with raw.fif, raw_sss.fif, raw_tsss.fif, _meg.fif, _eeg.fif, _ieeg.fif, raw.fif.gz, raw_sss.fif.gz, raw_tsss.fif.gz, _meg.fif.gz, _eeg.fif.gz or _ieeg.fif.gz\n",
      "  results.append(mne.io.read_raw(file_full_path))\n",
      "/tmp/ipykernel_226652/138576087.py:4: RuntimeWarning: This filename (./data/adhd_control_preprocessed/A03.fif) does not conform to MNE naming conventions. All raw files should end with raw.fif, raw_sss.fif, raw_tsss.fif, _meg.fif, _eeg.fif, _ieeg.fif, raw.fif.gz, raw_sss.fif.gz, raw_tsss.fif.gz, _meg.fif.gz, _eeg.fif.gz or _ieeg.fif.gz\n",
      "  results.append(mne.io.read_raw(file_full_path))\n",
      "/tmp/ipykernel_226652/138576087.py:4: RuntimeWarning: This filename (./data/adhd_control_preprocessed/A32.fif) does not conform to MNE naming conventions. All raw files should end with raw.fif, raw_sss.fif, raw_tsss.fif, _meg.fif, _eeg.fif, _ieeg.fif, raw.fif.gz, raw_sss.fif.gz, raw_tsss.fif.gz, _meg.fif.gz, _eeg.fif.gz or _ieeg.fif.gz\n",
      "  results.append(mne.io.read_raw(file_full_path))\n",
      "/tmp/ipykernel_226652/138576087.py:4: RuntimeWarning: This filename (./data/adhd_control_preprocessed/A50.fif) does not conform to MNE naming conventions. All raw files should end with raw.fif, raw_sss.fif, raw_tsss.fif, _meg.fif, _eeg.fif, _ieeg.fif, raw.fif.gz, raw_sss.fif.gz, raw_tsss.fif.gz, _meg.fif.gz, _eeg.fif.gz or _ieeg.fif.gz\n",
      "  results.append(mne.io.read_raw(file_full_path))\n",
      "/tmp/ipykernel_226652/138576087.py:4: RuntimeWarning: This filename (./data/adhd_control_preprocessed/A08.fif) does not conform to MNE naming conventions. All raw files should end with raw.fif, raw_sss.fif, raw_tsss.fif, _meg.fif, _eeg.fif, _ieeg.fif, raw.fif.gz, raw_sss.fif.gz, raw_tsss.fif.gz, _meg.fif.gz, _eeg.fif.gz or _ieeg.fif.gz\n",
      "  results.append(mne.io.read_raw(file_full_path))\n",
      "/tmp/ipykernel_226652/138576087.py:4: RuntimeWarning: This filename (./data/adhd_control_preprocessed/A15.fif) does not conform to MNE naming conventions. All raw files should end with raw.fif, raw_sss.fif, raw_tsss.fif, _meg.fif, _eeg.fif, _ieeg.fif, raw.fif.gz, raw_sss.fif.gz, raw_tsss.fif.gz, _meg.fif.gz, _eeg.fif.gz or _ieeg.fif.gz\n",
      "  results.append(mne.io.read_raw(file_full_path))\n",
      "/tmp/ipykernel_226652/138576087.py:4: RuntimeWarning: This filename (./data/adhd_control_preprocessed/A06.fif) does not conform to MNE naming conventions. All raw files should end with raw.fif, raw_sss.fif, raw_tsss.fif, _meg.fif, _eeg.fif, _ieeg.fif, raw.fif.gz, raw_sss.fif.gz, raw_tsss.fif.gz, _meg.fif.gz, _eeg.fif.gz or _ieeg.fif.gz\n",
      "  results.append(mne.io.read_raw(file_full_path))\n",
      "/tmp/ipykernel_226652/138576087.py:4: RuntimeWarning: This filename (./data/adhd_control_preprocessed/A27.fif) does not conform to MNE naming conventions. All raw files should end with raw.fif, raw_sss.fif, raw_tsss.fif, _meg.fif, _eeg.fif, _ieeg.fif, raw.fif.gz, raw_sss.fif.gz, raw_tsss.fif.gz, _meg.fif.gz, _eeg.fif.gz or _ieeg.fif.gz\n",
      "  results.append(mne.io.read_raw(file_full_path))\n",
      "/tmp/ipykernel_226652/138576087.py:4: RuntimeWarning: This filename (./data/adhd_control_preprocessed/A58.fif) does not conform to MNE naming conventions. All raw files should end with raw.fif, raw_sss.fif, raw_tsss.fif, _meg.fif, _eeg.fif, _ieeg.fif, raw.fif.gz, raw_sss.fif.gz, raw_tsss.fif.gz, _meg.fif.gz, _eeg.fif.gz or _ieeg.fif.gz\n",
      "  results.append(mne.io.read_raw(file_full_path))\n",
      "/tmp/ipykernel_226652/138576087.py:4: RuntimeWarning: This filename (./data/adhd_control_preprocessed/A21.fif) does not conform to MNE naming conventions. All raw files should end with raw.fif, raw_sss.fif, raw_tsss.fif, _meg.fif, _eeg.fif, _ieeg.fif, raw.fif.gz, raw_sss.fif.gz, raw_tsss.fif.gz, _meg.fif.gz, _eeg.fif.gz or _ieeg.fif.gz\n",
      "  results.append(mne.io.read_raw(file_full_path))\n",
      "/tmp/ipykernel_226652/138576087.py:4: RuntimeWarning: This filename (./data/adhd_control_preprocessed/A33.fif) does not conform to MNE naming conventions. All raw files should end with raw.fif, raw_sss.fif, raw_tsss.fif, _meg.fif, _eeg.fif, _ieeg.fif, raw.fif.gz, raw_sss.fif.gz, raw_tsss.fif.gz, _meg.fif.gz, _eeg.fif.gz or _ieeg.fif.gz\n",
      "  results.append(mne.io.read_raw(file_full_path))\n",
      "/tmp/ipykernel_226652/138576087.py:4: RuntimeWarning: This filename (./data/adhd_control_preprocessed/A07.fif) does not conform to MNE naming conventions. All raw files should end with raw.fif, raw_sss.fif, raw_tsss.fif, _meg.fif, _eeg.fif, _ieeg.fif, raw.fif.gz, raw_sss.fif.gz, raw_tsss.fif.gz, _meg.fif.gz, _eeg.fif.gz or _ieeg.fif.gz\n",
      "  results.append(mne.io.read_raw(file_full_path))\n",
      "/tmp/ipykernel_226652/138576087.py:4: RuntimeWarning: This filename (./data/adhd_control_preprocessed/A49.fif) does not conform to MNE naming conventions. All raw files should end with raw.fif, raw_sss.fif, raw_tsss.fif, _meg.fif, _eeg.fif, _ieeg.fif, raw.fif.gz, raw_sss.fif.gz, raw_tsss.fif.gz, _meg.fif.gz, _eeg.fif.gz or _ieeg.fif.gz\n",
      "  results.append(mne.io.read_raw(file_full_path))\n",
      "/tmp/ipykernel_226652/138576087.py:4: RuntimeWarning: This filename (./data/adhd_control_preprocessed/A30.fif) does not conform to MNE naming conventions. All raw files should end with raw.fif, raw_sss.fif, raw_tsss.fif, _meg.fif, _eeg.fif, _ieeg.fif, raw.fif.gz, raw_sss.fif.gz, raw_tsss.fif.gz, _meg.fif.gz, _eeg.fif.gz or _ieeg.fif.gz\n",
      "  results.append(mne.io.read_raw(file_full_path))\n",
      "/tmp/ipykernel_226652/138576087.py:4: RuntimeWarning: This filename (./data/adhd_control_preprocessed/A40.fif) does not conform to MNE naming conventions. All raw files should end with raw.fif, raw_sss.fif, raw_tsss.fif, _meg.fif, _eeg.fif, _ieeg.fif, raw.fif.gz, raw_sss.fif.gz, raw_tsss.fif.gz, _meg.fif.gz, _eeg.fif.gz or _ieeg.fif.gz\n",
      "  results.append(mne.io.read_raw(file_full_path))\n",
      "/tmp/ipykernel_226652/138576087.py:4: RuntimeWarning: This filename (./data/adhd_control_preprocessed/A24.fif) does not conform to MNE naming conventions. All raw files should end with raw.fif, raw_sss.fif, raw_tsss.fif, _meg.fif, _eeg.fif, _ieeg.fif, raw.fif.gz, raw_sss.fif.gz, raw_tsss.fif.gz, _meg.fif.gz, _eeg.fif.gz or _ieeg.fif.gz\n",
      "  results.append(mne.io.read_raw(file_full_path))\n",
      "/tmp/ipykernel_226652/138576087.py:4: RuntimeWarning: This filename (./data/adhd_control_preprocessed/A20.fif) does not conform to MNE naming conventions. All raw files should end with raw.fif, raw_sss.fif, raw_tsss.fif, _meg.fif, _eeg.fif, _ieeg.fif, raw.fif.gz, raw_sss.fif.gz, raw_tsss.fif.gz, _meg.fif.gz, _eeg.fif.gz or _ieeg.fif.gz\n",
      "  results.append(mne.io.read_raw(file_full_path))\n",
      "/tmp/ipykernel_226652/138576087.py:4: RuntimeWarning: This filename (./data/adhd_control_preprocessed/A47.fif) does not conform to MNE naming conventions. All raw files should end with raw.fif, raw_sss.fif, raw_tsss.fif, _meg.fif, _eeg.fif, _ieeg.fif, raw.fif.gz, raw_sss.fif.gz, raw_tsss.fif.gz, _meg.fif.gz, _eeg.fif.gz or _ieeg.fif.gz\n",
      "  results.append(mne.io.read_raw(file_full_path))\n",
      "/tmp/ipykernel_226652/138576087.py:4: RuntimeWarning: This filename (./data/adhd_control_preprocessed/A14.fif) does not conform to MNE naming conventions. All raw files should end with raw.fif, raw_sss.fif, raw_tsss.fif, _meg.fif, _eeg.fif, _ieeg.fif, raw.fif.gz, raw_sss.fif.gz, raw_tsss.fif.gz, _meg.fif.gz, _eeg.fif.gz or _ieeg.fif.gz\n",
      "  results.append(mne.io.read_raw(file_full_path))\n",
      "/tmp/ipykernel_226652/138576087.py:4: RuntimeWarning: This filename (./data/adhd_control_preprocessed/A41.fif) does not conform to MNE naming conventions. All raw files should end with raw.fif, raw_sss.fif, raw_tsss.fif, _meg.fif, _eeg.fif, _ieeg.fif, raw.fif.gz, raw_sss.fif.gz, raw_tsss.fif.gz, _meg.fif.gz, _eeg.fif.gz or _ieeg.fif.gz\n",
      "  results.append(mne.io.read_raw(file_full_path))\n",
      "/tmp/ipykernel_226652/138576087.py:4: RuntimeWarning: This filename (./data/adhd_control_preprocessed/A43.fif) does not conform to MNE naming conventions. All raw files should end with raw.fif, raw_sss.fif, raw_tsss.fif, _meg.fif, _eeg.fif, _ieeg.fif, raw.fif.gz, raw_sss.fif.gz, raw_tsss.fif.gz, _meg.fif.gz, _eeg.fif.gz or _ieeg.fif.gz\n",
      "  results.append(mne.io.read_raw(file_full_path))\n",
      "/tmp/ipykernel_226652/138576087.py:4: RuntimeWarning: This filename (./data/adhd_control_preprocessed/A57.fif) does not conform to MNE naming conventions. All raw files should end with raw.fif, raw_sss.fif, raw_tsss.fif, _meg.fif, _eeg.fif, _ieeg.fif, raw.fif.gz, raw_sss.fif.gz, raw_tsss.fif.gz, _meg.fif.gz, _eeg.fif.gz or _ieeg.fif.gz\n",
      "  results.append(mne.io.read_raw(file_full_path))\n",
      "/tmp/ipykernel_226652/138576087.py:4: RuntimeWarning: This filename (./data/adhd_control_preprocessed/A29.fif) does not conform to MNE naming conventions. All raw files should end with raw.fif, raw_sss.fif, raw_tsss.fif, _meg.fif, _eeg.fif, _ieeg.fif, raw.fif.gz, raw_sss.fif.gz, raw_tsss.fif.gz, _meg.fif.gz, _eeg.fif.gz or _ieeg.fif.gz\n",
      "  results.append(mne.io.read_raw(file_full_path))\n",
      "/tmp/ipykernel_226652/138576087.py:4: RuntimeWarning: This filename (./data/adhd_control_preprocessed/A04.fif) does not conform to MNE naming conventions. All raw files should end with raw.fif, raw_sss.fif, raw_tsss.fif, _meg.fif, _eeg.fif, _ieeg.fif, raw.fif.gz, raw_sss.fif.gz, raw_tsss.fif.gz, _meg.fif.gz, _eeg.fif.gz or _ieeg.fif.gz\n",
      "  results.append(mne.io.read_raw(file_full_path))\n",
      "/tmp/ipykernel_226652/138576087.py:4: RuntimeWarning: This filename (./data/adhd_control_preprocessed/A18.fif) does not conform to MNE naming conventions. All raw files should end with raw.fif, raw_sss.fif, raw_tsss.fif, _meg.fif, _eeg.fif, _ieeg.fif, raw.fif.gz, raw_sss.fif.gz, raw_tsss.fif.gz, _meg.fif.gz, _eeg.fif.gz or _ieeg.fif.gz\n",
      "  results.append(mne.io.read_raw(file_full_path))\n",
      "/tmp/ipykernel_226652/138576087.py:4: RuntimeWarning: This filename (./data/adhd_control_preprocessed/A09.fif) does not conform to MNE naming conventions. All raw files should end with raw.fif, raw_sss.fif, raw_tsss.fif, _meg.fif, _eeg.fif, _ieeg.fif, raw.fif.gz, raw_sss.fif.gz, raw_tsss.fif.gz, _meg.fif.gz, _eeg.fif.gz or _ieeg.fif.gz\n",
      "  results.append(mne.io.read_raw(file_full_path))\n",
      "/tmp/ipykernel_226652/138576087.py:4: RuntimeWarning: This filename (./data/adhd_control_preprocessed/A46.fif) does not conform to MNE naming conventions. All raw files should end with raw.fif, raw_sss.fif, raw_tsss.fif, _meg.fif, _eeg.fif, _ieeg.fif, raw.fif.gz, raw_sss.fif.gz, raw_tsss.fif.gz, _meg.fif.gz, _eeg.fif.gz or _ieeg.fif.gz\n",
      "  results.append(mne.io.read_raw(file_full_path))\n"
     ]
    },
    {
     "name": "stdout",
     "output_type": "stream",
     "text": [
      "    Range : 0 ... 9285 =      0.000 ...    72.539 secs\n",
      "Ready.\n",
      "Opening raw data file ./data/adhd_control_preprocessed/A56.fif...\n",
      "    Range : 0 ... 23680 =      0.000 ...   185.000 secs\n",
      "Ready.\n",
      "Opening raw data file ./data/adhd_control_preprocessed/A44.fif...\n",
      "    Range : 0 ... 27156 =      0.000 ...   212.156 secs\n",
      "Ready.\n",
      "Opening raw data file ./data/adhd_control_preprocessed/A13.fif...\n",
      "    Range : 0 ... 12099 =      0.000 ...    94.523 secs\n",
      "Ready.\n",
      "Opening raw data file ./data/adhd_control_preprocessed/A38.fif...\n",
      "    Range : 0 ... 12738 =      0.000 ...    99.516 secs\n",
      "Ready.\n",
      "Opening raw data file ./data/adhd_control_preprocessed/A37.fif...\n",
      "    Range : 0 ... 19620 =      0.000 ...   153.281 secs\n",
      "Ready.\n",
      "Opening raw data file ./data/adhd_control_preprocessed/A45.fif...\n",
      "    Range : 0 ... 28079 =      0.000 ...   219.367 secs\n",
      "Ready.\n",
      "Opening raw data file ./data/adhd_control_preprocessed/A42.fif...\n",
      "    Range : 0 ... 12352 =      0.000 ...    96.500 secs\n",
      "Ready.\n",
      "Opening raw data file ./data/adhd_control_preprocessed/A61.fif...\n",
      "    Range : 0 ... 20114 =      0.000 ...   157.141 secs\n",
      "Ready.\n",
      "Opening raw data file ./data/adhd_control_preprocessed/A35.fif...\n",
      "    Range : 0 ... 15464 =      0.000 ...   120.812 secs\n",
      "Ready.\n",
      "Opening raw data file ./data/adhd_control_preprocessed/A28.fif...\n",
      "    Range : 0 ... 18176 =      0.000 ...   142.000 secs\n",
      "Ready.\n",
      "Opening raw data file ./data/adhd_control_preprocessed/A10.fif...\n",
      "    Range : 0 ... 23062 =      0.000 ...   180.172 secs\n",
      "Ready.\n",
      "Opening raw data file ./data/adhd_control_preprocessed/A12.fif...\n",
      "    Range : 0 ... 16573 =      0.000 ...   129.477 secs\n",
      "Ready.\n",
      "Opening raw data file ./data/adhd_control_preprocessed/A01.fif...\n",
      "    Range : 0 ... 12257 =      0.000 ...    95.758 secs\n",
      "Ready.\n",
      "Opening raw data file ./data/adhd_control_preprocessed/A31.fif...\n",
      "    Range : 0 ... 16696 =      0.000 ...   130.438 secs\n",
      "Ready.\n",
      "Opening raw data file ./data/adhd_control_preprocessed/A39.fif...\n",
      "    Range : 0 ... 20455 =      0.000 ...   159.805 secs\n",
      "Ready.\n",
      "Opening raw data file ./data/adhd_control_preprocessed/A36.fif...\n",
      "    Range : 0 ... 13394 =      0.000 ...   104.641 secs\n",
      "Ready.\n",
      "Opening raw data file ./data/adhd_control_preprocessed/A60.fif...\n",
      "    Range : 0 ... 11464 =      0.000 ...    89.562 secs\n",
      "Ready.\n",
      "Opening raw data file ./data/adhd_control_preprocessed/A48.fif...\n",
      "    Range : 0 ... 13501 =      0.000 ...   105.477 secs\n",
      "Ready.\n",
      "Opening raw data file ./data/adhd_control_preprocessed/A23.fif...\n",
      "    Range : 0 ... 19554 =      0.000 ...   152.766 secs\n",
      "Ready.\n",
      "Opening raw data file ./data/adhd_control_preprocessed/A25.fif...\n",
      "    Range : 0 ... 17400 =      0.000 ...   135.938 secs\n",
      "Ready.\n"
     ]
    },
    {
     "name": "stderr",
     "output_type": "stream",
     "text": [
      "/tmp/ipykernel_226652/138576087.py:4: RuntimeWarning: This filename (./data/adhd_control_preprocessed/A26.fif) does not conform to MNE naming conventions. All raw files should end with raw.fif, raw_sss.fif, raw_tsss.fif, _meg.fif, _eeg.fif, _ieeg.fif, raw.fif.gz, raw_sss.fif.gz, raw_tsss.fif.gz, _meg.fif.gz, _eeg.fif.gz or _ieeg.fif.gz\n",
      "  results.append(mne.io.read_raw(file_full_path))\n",
      "/tmp/ipykernel_226652/138576087.py:4: RuntimeWarning: This filename (./data/adhd_control_preprocessed/A56.fif) does not conform to MNE naming conventions. All raw files should end with raw.fif, raw_sss.fif, raw_tsss.fif, _meg.fif, _eeg.fif, _ieeg.fif, raw.fif.gz, raw_sss.fif.gz, raw_tsss.fif.gz, _meg.fif.gz, _eeg.fif.gz or _ieeg.fif.gz\n",
      "  results.append(mne.io.read_raw(file_full_path))\n",
      "/tmp/ipykernel_226652/138576087.py:4: RuntimeWarning: This filename (./data/adhd_control_preprocessed/A44.fif) does not conform to MNE naming conventions. All raw files should end with raw.fif, raw_sss.fif, raw_tsss.fif, _meg.fif, _eeg.fif, _ieeg.fif, raw.fif.gz, raw_sss.fif.gz, raw_tsss.fif.gz, _meg.fif.gz, _eeg.fif.gz or _ieeg.fif.gz\n",
      "  results.append(mne.io.read_raw(file_full_path))\n",
      "/tmp/ipykernel_226652/138576087.py:4: RuntimeWarning: This filename (./data/adhd_control_preprocessed/A13.fif) does not conform to MNE naming conventions. All raw files should end with raw.fif, raw_sss.fif, raw_tsss.fif, _meg.fif, _eeg.fif, _ieeg.fif, raw.fif.gz, raw_sss.fif.gz, raw_tsss.fif.gz, _meg.fif.gz, _eeg.fif.gz or _ieeg.fif.gz\n",
      "  results.append(mne.io.read_raw(file_full_path))\n",
      "/tmp/ipykernel_226652/138576087.py:4: RuntimeWarning: This filename (./data/adhd_control_preprocessed/A38.fif) does not conform to MNE naming conventions. All raw files should end with raw.fif, raw_sss.fif, raw_tsss.fif, _meg.fif, _eeg.fif, _ieeg.fif, raw.fif.gz, raw_sss.fif.gz, raw_tsss.fif.gz, _meg.fif.gz, _eeg.fif.gz or _ieeg.fif.gz\n",
      "  results.append(mne.io.read_raw(file_full_path))\n",
      "/tmp/ipykernel_226652/138576087.py:4: RuntimeWarning: This filename (./data/adhd_control_preprocessed/A37.fif) does not conform to MNE naming conventions. All raw files should end with raw.fif, raw_sss.fif, raw_tsss.fif, _meg.fif, _eeg.fif, _ieeg.fif, raw.fif.gz, raw_sss.fif.gz, raw_tsss.fif.gz, _meg.fif.gz, _eeg.fif.gz or _ieeg.fif.gz\n",
      "  results.append(mne.io.read_raw(file_full_path))\n",
      "/tmp/ipykernel_226652/138576087.py:4: RuntimeWarning: This filename (./data/adhd_control_preprocessed/A45.fif) does not conform to MNE naming conventions. All raw files should end with raw.fif, raw_sss.fif, raw_tsss.fif, _meg.fif, _eeg.fif, _ieeg.fif, raw.fif.gz, raw_sss.fif.gz, raw_tsss.fif.gz, _meg.fif.gz, _eeg.fif.gz or _ieeg.fif.gz\n",
      "  results.append(mne.io.read_raw(file_full_path))\n",
      "/tmp/ipykernel_226652/138576087.py:4: RuntimeWarning: This filename (./data/adhd_control_preprocessed/A42.fif) does not conform to MNE naming conventions. All raw files should end with raw.fif, raw_sss.fif, raw_tsss.fif, _meg.fif, _eeg.fif, _ieeg.fif, raw.fif.gz, raw_sss.fif.gz, raw_tsss.fif.gz, _meg.fif.gz, _eeg.fif.gz or _ieeg.fif.gz\n",
      "  results.append(mne.io.read_raw(file_full_path))\n",
      "/tmp/ipykernel_226652/138576087.py:4: RuntimeWarning: This filename (./data/adhd_control_preprocessed/A61.fif) does not conform to MNE naming conventions. All raw files should end with raw.fif, raw_sss.fif, raw_tsss.fif, _meg.fif, _eeg.fif, _ieeg.fif, raw.fif.gz, raw_sss.fif.gz, raw_tsss.fif.gz, _meg.fif.gz, _eeg.fif.gz or _ieeg.fif.gz\n",
      "  results.append(mne.io.read_raw(file_full_path))\n",
      "/tmp/ipykernel_226652/138576087.py:4: RuntimeWarning: This filename (./data/adhd_control_preprocessed/A35.fif) does not conform to MNE naming conventions. All raw files should end with raw.fif, raw_sss.fif, raw_tsss.fif, _meg.fif, _eeg.fif, _ieeg.fif, raw.fif.gz, raw_sss.fif.gz, raw_tsss.fif.gz, _meg.fif.gz, _eeg.fif.gz or _ieeg.fif.gz\n",
      "  results.append(mne.io.read_raw(file_full_path))\n",
      "/tmp/ipykernel_226652/138576087.py:4: RuntimeWarning: This filename (./data/adhd_control_preprocessed/A28.fif) does not conform to MNE naming conventions. All raw files should end with raw.fif, raw_sss.fif, raw_tsss.fif, _meg.fif, _eeg.fif, _ieeg.fif, raw.fif.gz, raw_sss.fif.gz, raw_tsss.fif.gz, _meg.fif.gz, _eeg.fif.gz or _ieeg.fif.gz\n",
      "  results.append(mne.io.read_raw(file_full_path))\n",
      "/tmp/ipykernel_226652/138576087.py:4: RuntimeWarning: This filename (./data/adhd_control_preprocessed/A10.fif) does not conform to MNE naming conventions. All raw files should end with raw.fif, raw_sss.fif, raw_tsss.fif, _meg.fif, _eeg.fif, _ieeg.fif, raw.fif.gz, raw_sss.fif.gz, raw_tsss.fif.gz, _meg.fif.gz, _eeg.fif.gz or _ieeg.fif.gz\n",
      "  results.append(mne.io.read_raw(file_full_path))\n",
      "/tmp/ipykernel_226652/138576087.py:4: RuntimeWarning: This filename (./data/adhd_control_preprocessed/A12.fif) does not conform to MNE naming conventions. All raw files should end with raw.fif, raw_sss.fif, raw_tsss.fif, _meg.fif, _eeg.fif, _ieeg.fif, raw.fif.gz, raw_sss.fif.gz, raw_tsss.fif.gz, _meg.fif.gz, _eeg.fif.gz or _ieeg.fif.gz\n",
      "  results.append(mne.io.read_raw(file_full_path))\n",
      "/tmp/ipykernel_226652/138576087.py:4: RuntimeWarning: This filename (./data/adhd_control_preprocessed/A01.fif) does not conform to MNE naming conventions. All raw files should end with raw.fif, raw_sss.fif, raw_tsss.fif, _meg.fif, _eeg.fif, _ieeg.fif, raw.fif.gz, raw_sss.fif.gz, raw_tsss.fif.gz, _meg.fif.gz, _eeg.fif.gz or _ieeg.fif.gz\n",
      "  results.append(mne.io.read_raw(file_full_path))\n",
      "/tmp/ipykernel_226652/138576087.py:4: RuntimeWarning: This filename (./data/adhd_control_preprocessed/A31.fif) does not conform to MNE naming conventions. All raw files should end with raw.fif, raw_sss.fif, raw_tsss.fif, _meg.fif, _eeg.fif, _ieeg.fif, raw.fif.gz, raw_sss.fif.gz, raw_tsss.fif.gz, _meg.fif.gz, _eeg.fif.gz or _ieeg.fif.gz\n",
      "  results.append(mne.io.read_raw(file_full_path))\n",
      "/tmp/ipykernel_226652/138576087.py:4: RuntimeWarning: This filename (./data/adhd_control_preprocessed/A39.fif) does not conform to MNE naming conventions. All raw files should end with raw.fif, raw_sss.fif, raw_tsss.fif, _meg.fif, _eeg.fif, _ieeg.fif, raw.fif.gz, raw_sss.fif.gz, raw_tsss.fif.gz, _meg.fif.gz, _eeg.fif.gz or _ieeg.fif.gz\n",
      "  results.append(mne.io.read_raw(file_full_path))\n",
      "/tmp/ipykernel_226652/138576087.py:4: RuntimeWarning: This filename (./data/adhd_control_preprocessed/A36.fif) does not conform to MNE naming conventions. All raw files should end with raw.fif, raw_sss.fif, raw_tsss.fif, _meg.fif, _eeg.fif, _ieeg.fif, raw.fif.gz, raw_sss.fif.gz, raw_tsss.fif.gz, _meg.fif.gz, _eeg.fif.gz or _ieeg.fif.gz\n",
      "  results.append(mne.io.read_raw(file_full_path))\n",
      "/tmp/ipykernel_226652/138576087.py:4: RuntimeWarning: This filename (./data/adhd_control_preprocessed/A60.fif) does not conform to MNE naming conventions. All raw files should end with raw.fif, raw_sss.fif, raw_tsss.fif, _meg.fif, _eeg.fif, _ieeg.fif, raw.fif.gz, raw_sss.fif.gz, raw_tsss.fif.gz, _meg.fif.gz, _eeg.fif.gz or _ieeg.fif.gz\n",
      "  results.append(mne.io.read_raw(file_full_path))\n",
      "/tmp/ipykernel_226652/138576087.py:4: RuntimeWarning: This filename (./data/adhd_control_preprocessed/A48.fif) does not conform to MNE naming conventions. All raw files should end with raw.fif, raw_sss.fif, raw_tsss.fif, _meg.fif, _eeg.fif, _ieeg.fif, raw.fif.gz, raw_sss.fif.gz, raw_tsss.fif.gz, _meg.fif.gz, _eeg.fif.gz or _ieeg.fif.gz\n",
      "  results.append(mne.io.read_raw(file_full_path))\n",
      "/tmp/ipykernel_226652/138576087.py:4: RuntimeWarning: This filename (./data/adhd_control_preprocessed/A23.fif) does not conform to MNE naming conventions. All raw files should end with raw.fif, raw_sss.fif, raw_tsss.fif, _meg.fif, _eeg.fif, _ieeg.fif, raw.fif.gz, raw_sss.fif.gz, raw_tsss.fif.gz, _meg.fif.gz, _eeg.fif.gz or _ieeg.fif.gz\n",
      "  results.append(mne.io.read_raw(file_full_path))\n",
      "/tmp/ipykernel_226652/138576087.py:4: RuntimeWarning: This filename (./data/adhd_control_preprocessed/A25.fif) does not conform to MNE naming conventions. All raw files should end with raw.fif, raw_sss.fif, raw_tsss.fif, _meg.fif, _eeg.fif, _ieeg.fif, raw.fif.gz, raw_sss.fif.gz, raw_tsss.fif.gz, _meg.fif.gz, _eeg.fif.gz or _ieeg.fif.gz\n",
      "  results.append(mne.io.read_raw(file_full_path))\n"
     ]
    }
   ],
   "source": [
    "def min_max_nor(mne_raw):\n",
    "    data = mne_raw.get_data()\n",
    "    min_data = np.min(data, axis=1, keepdims=True)\n",
    "    max_data = np.max(data, axis=1, keepdims=True)\n",
    "    print(min_data.shape)\n",
    "    minmax_data = (data - min_data) / (max_data - min_data)\n",
    "    mne_raw = mne.io.RawArray(minmax_data, mne_raw.info)\n",
    "    return mne_raw\n",
    "\n",
    "\n",
    "def produce_microstates_and_sequence(id, samples):\n",
    "    results = []\n",
    "    for sample in samples:\n",
    "        file_full_path = os.path.join(\"./data/adhd_control_preprocessed\", sample)\n",
    "        results.append(mne.io.read_raw(file_full_path))\n",
    "    data = mne.concatenate_raws(results)\n",
    "    data.load_data()\n",
    "    data.filter(l_freq=0, h_freq=40)\n",
    "    data = data.set_eeg_reference(\"average\")\n",
    "    data = min_max_nor(data)\n",
    "    recording = eeg_recording.SingleSubjectRecording(\"0\", data)\n",
    "    \n",
    "    recording.run_latent_kmeans(n_states=4, use_gfp=False)\n",
    "    np.savez(f\"data/{id}_gev_{recording.gev_tot}.npz\", microstate_sequence=recording.latent_segmentation, microstates=recording.latent_maps)\n",
    "    "
   ]
  },
  {
   "cell_type": "code",
   "execution_count": null,
   "id": "774f3a52",
   "metadata": {},
   "outputs": [],
   "source": []
  },
  {
   "cell_type": "code",
   "execution_count": null,
   "id": "6b7d39ba",
   "metadata": {},
   "outputs": [
    {
     "name": "stdout",
     "output_type": "stream",
     "text": [
      "Filtering raw data in 1 contiguous segment\n",
      "Setting up low-pass filter at 40 Hz\n",
      "\n",
      "FIR filter parameters\n",
      "---------------------\n",
      "Designing a one-pass, zero-phase, non-causal lowpass filter:\n",
      "- Windowed time-domain design (firwin) method\n",
      "- Hamming window with 0.0194 passband ripple and 53 dB stopband attenuation\n",
      "- Upper passband edge: 40.00 Hz\n",
      "- Upper transition bandwidth: 10.00 Hz (-6 dB cutoff frequency: 45.00 Hz)\n",
      "- Filter length: 43 samples (0.336 s)\n",
      "\n"
     ]
    },
    {
     "name": "stderr",
     "output_type": "stream",
     "text": [
      "[Parallel(n_jobs=1)]: Done  17 tasks      | elapsed:    1.8s\n",
      "[Parallel(n_jobs=1)]: Done  19 out of  19 | elapsed:    2.0s finished\n"
     ]
    },
    {
     "data": {
      "text/html": [
       "<script type=\"text/javascript\">\n",
       "    const toggleVisibility = (className) => {\n",
       "\n",
       "  const elements = document.querySelectorAll(`.${className}`)\n",
       "\n",
       "  elements.forEach(element => {\n",
       "    if (element.classList.contains('repr-section-header')) {\n",
       "      // Don't collapse the section header row.\n",
       "       return\n",
       "    }\n",
       "    if (element.classList.contains('repr-element-collapsed')) {\n",
       "      // Force a reflow to ensure the display change takes effect before removing the class\n",
       "      element.classList.remove('repr-element-collapsed')\n",
       "      element.offsetHeight // This forces the browser to recalculate layout\n",
       "      element.classList.remove('repr-element-faded')\n",
       "    } else {\n",
       "      // Start transition to hide the element\n",
       "      element.classList.add('repr-element-faded')\n",
       "      element.addEventListener('transitionend', handler = (e) => {\n",
       "        if (e.propertyName === 'opacity' && getComputedStyle(element).opacity === '0.2') {\n",
       "          element.classList.add('repr-element-collapsed')\n",
       "          element.removeEventListener('transitionend', handler)\n",
       "        }\n",
       "      });\n",
       "    }\n",
       "  });\n",
       "\n",
       "  // Take care of button (adjust caret)\n",
       "  const button = document.querySelectorAll(`.repr-section-header.${className} > th.repr-section-toggle-col > button`)[0]\n",
       "  button.classList.toggle('collapsed')\n",
       "\n",
       "  // Take care of the tooltip of the section header row\n",
       "  const sectionHeaderRow = document.querySelectorAll(`tr.repr-section-header.${className}`)[0]\n",
       "  sectionHeaderRow.classList.toggle('collapsed')\n",
       "  sectionHeaderRow.title = sectionHeaderRow.title === 'Hide section' ? 'Show section' : 'Hide section'\n",
       "}\n",
       "</script>\n",
       "\n",
       "<style type=\"text/css\">\n",
       "    table.repr.table.table-hover.table-striped.table-sm.table-responsive.small {\n",
       "  /* Don't make rows wider than they need to be. */\n",
       "  display: inline;\n",
       "}\n",
       "\n",
       "table > tbody > tr.repr-element > td {\n",
       "  /* Apply a tighter layout to the table cells. */\n",
       "  padding-top: 0.1rem;\n",
       "  padding-bottom: 0.1rem;\n",
       "  padding-right: 1rem;\n",
       "}\n",
       "\n",
       "table > tbody > tr > td.repr-section-toggle-col {\n",
       "  /* Remove background and border of the first cell in every row\n",
       "     (this row is only used for the collapse / uncollapse caret)\n",
       "\n",
       "     TODO: Need to find a good solution for VS Code that works in both\n",
       "           light and dark mode. */\n",
       "  border-color: transparent;\n",
       "  --bs-table-accent-bg: transparent;\n",
       "}\n",
       "\n",
       "tr.repr-section-header {\n",
       "  /* Remove stripes from section header rows */\n",
       "  background-color: transparent;\n",
       "  border-color: transparent;\n",
       "  --bs-table-striped-bg: transparent;\n",
       "  cursor: pointer;\n",
       "}\n",
       "\n",
       "tr.repr-section-header > th {\n",
       "  text-align: left !important;\n",
       "  vertical-align: middle;\n",
       "}\n",
       "\n",
       ".repr-element, tr.repr-element > td {\n",
       "  opacity: 1;\n",
       "  text-align: left !important;\n",
       "}\n",
       "\n",
       ".repr-element-faded {\n",
       "  transition: 0.3s ease;\n",
       "  opacity: 0.2;\n",
       "}\n",
       "\n",
       ".repr-element-collapsed {\n",
       "  display: none;\n",
       "}\n",
       "\n",
       "/* Collapse / uncollapse button and the caret it contains. */\n",
       ".repr-section-toggle-col button {\n",
       "  cursor: pointer;\n",
       "  width: 1rem;\n",
       "  background-color: transparent;\n",
       "  border-color: transparent;\n",
       "}\n",
       "\n",
       "span.collapse-uncollapse-caret {\n",
       "  width: 1rem;\n",
       "  height: 1rem;\n",
       "  display: block;\n",
       "  background-repeat: no-repeat;\n",
       "  background-position: left;\n",
       "  background-size: contain;\n",
       "}\n",
       "\n",
       "/* The collapse / uncollapse carets were copied from the free Font Awesome collection and adjusted. */\n",
       "\n",
       "/* Default to black carets for light mode */\n",
       ".repr-section-toggle-col > button.collapsed > span.collapse-uncollapse-caret {\n",
       "  background-image: url('data:image/svg+xml;charset=utf8,<svg xmlns=\"http://www.w3.org/2000/svg\" viewBox=\"0 0 256 512\"><!--!Font Awesome Free 6.5.2 by @fontawesome - https://fontawesome.com License - https://fontawesome.com/license/free Copyright 2024 Fonticons, Inc.--><path fill=\"black\" d=\"M246.6 278.6c12.5-12.5 12.5-32.8 0-45.3l-128-128c-9.2-9.2-22.9-11.9-34.9-6.9s-19.8 16.6-19.8 29.6l0 256c0 12.9 7.8 24.6 19.8 29.6s25.7 2.2 34.9-6.9l128-128z\"/></svg>');\n",
       "}\n",
       "\n",
       ".repr-section-toggle-col\n",
       "  > button:not(.collapsed)\n",
       "  > span.collapse-uncollapse-caret {\n",
       "  background-image: url('data:image/svg+xml;charset=utf8,<svg xmlns=\"http://www.w3.org/2000/svg\" viewBox=\"0 0 320 512\"><!--!Font Awesome Free 6.5.2 by @fontawesome - https://fontawesome.com License - https://fontawesome.com/license/free Copyright 2024 Fonticons, Inc.--><path fill=\"black\" d=\"M137.4 374.6c12.5 12.5 32.8 12.5 45.3 0l128-128c9.2-9.2 11.9-22.9 6.9-34.9s-16.6-19.8-29.6-19.8L32 192c-12.9 0-24.6 7.8-29.6 19.8s-2.2 25.7 6.9 34.9l128 128z\"/></svg>');\n",
       "}\n",
       "\n",
       "/* Use white carets for dark mode */\n",
       "@media (prefers-color-scheme: dark) {\n",
       "  .repr-section-toggle-col > button.collapsed > span.collapse-uncollapse-caret {\n",
       "    background-image: url('data:image/svg+xml;charset=utf8,<svg xmlns=\"http://www.w3.org/2000/svg\" viewBox=\"0 0 256 512\"><!--!Font Awesome Free 6.5.2 by @fontawesome - https://fontawesome.com License - https://fontawesome.com/license/free Copyright 2024 Fonticons, Inc.--><path fill=\"white\" d=\"M246.6 278.6c12.5-12.5 12.5-32.8 0-45.3l-128-128c-9.2-9.2-22.9-11.9-34.9-6.9s-19.8 16.6-19.8 29.6l0 256c0 12.9 7.8 24.6 19.8 29.6s25.7 2.2 34.9-6.9l128-128z\"/></svg>');\n",
       "  }\n",
       "\n",
       "  .repr-section-toggle-col\n",
       "    > button:not(.collapsed)\n",
       "    > span.collapse-uncollapse-caret {\n",
       "    background-image: url('data:image/svg+xml;charset=utf8,<svg xmlns=\"http://www.w3.org/2000/svg\" viewBox=\"0 0 320 512\"><!--!Font Awesome Free 6.5.2 by @fontawesome - https://fontawesome.com License - https://fontawesome.com/license/free Copyright 2024 Fonticons, Inc.--><path fill=\"white\" d=\"M137.4 374.6c12.5 12.5 32.8 12.5 45.3 0l128-128c9.2-9.2 11.9-22.9 6.9-34.9s-16.6-19.8-29.6-19.8L32 192c-12.9 0-24.6 7.8-29.6 19.8s-2.2 25.7 6.9 34.9l128 128z\"/></svg>');\n",
       "  }\n",
       "}\n",
       "\n",
       ".channel-names-btn {\n",
       "  padding: 0;\n",
       "  border: none;\n",
       "  background: none;\n",
       "  text-decoration: underline;\n",
       "  text-decoration-style: dashed;\n",
       "  cursor: pointer;\n",
       "  color: #0d6efd;\n",
       "}\n",
       "\n",
       ".channel-names-btn:hover {\n",
       "  color: #0a58ca;\n",
       "}\n",
       "</style>\n",
       "\n",
       "\n",
       "\n",
       "<table class=\"repr table table-hover table-striped table-sm table-responsive small\">\n",
       "    \n",
       "\n",
       "\n",
       "\n",
       "\n",
       "\n",
       "\n",
       "\n",
       "<tr class=\"repr-section-header general-0e051075-60c1-41a3-b35e-0ad6b94ebf10\"  title=\"Hide section\" \n",
       "    onclick=\"toggleVisibility('general-0e051075-60c1-41a3-b35e-0ad6b94ebf10')\">\n",
       "    <th class=\"repr-section-toggle-col\">\n",
       "        <button>\n",
       "            \n",
       "            <span class=\"collapse-uncollapse-caret\"></span>\n",
       "        </button>\n",
       "    </th>\n",
       "    <th colspan=\"2\">\n",
       "        <strong>General</strong>\n",
       "    </th>\n",
       "</tr>\n",
       "\n",
       "<tr class=\"repr-element general-0e051075-60c1-41a3-b35e-0ad6b94ebf10 \">\n",
       "    <td class=\"repr-section-toggle-col\"></td>\n",
       "    <td>MNE object type</td>\n",
       "    <td>RawArray</td>\n",
       "</tr>\n",
       "<tr class=\"repr-element general-0e051075-60c1-41a3-b35e-0ad6b94ebf10 \">\n",
       "    <td class=\"repr-section-toggle-col\"></td>\n",
       "    <td>Measurement date</td>\n",
       "    \n",
       "    <td>Unknown</td>\n",
       "    \n",
       "</tr>\n",
       "<tr class=\"repr-element general-0e051075-60c1-41a3-b35e-0ad6b94ebf10 \">\n",
       "    <td class=\"repr-section-toggle-col\"></td>\n",
       "    <td>Participant</td>\n",
       "    \n",
       "    <td>Unknown</td>\n",
       "    \n",
       "</tr>\n",
       "<tr class=\"repr-element general-0e051075-60c1-41a3-b35e-0ad6b94ebf10 \">\n",
       "    <td class=\"repr-section-toggle-col\"></td>\n",
       "    <td>Experimenter</td>\n",
       "    \n",
       "    <td>Unknown</td>\n",
       "    \n",
       "</tr>\n",
       "    \n",
       "\n",
       "\n",
       "\n",
       "\n",
       "\n",
       "\n",
       "\n",
       "<tr class=\"repr-section-header acquisition-3652e4ed-0319-450e-97c7-6217a9bc03db\" \n",
       "    title=\"Hide section\"  onclick=\"toggleVisibility('acquisition-3652e4ed-0319-450e-97c7-6217a9bc03db')\">\n",
       "    <th class=\"repr-section-toggle-col\">\n",
       "        <button>\n",
       "            \n",
       "            <span class=\"collapse-uncollapse-caret\"></span>\n",
       "        </button>\n",
       "    </th>\n",
       "    <th colspan=\"2\">\n",
       "        <strong>Acquisition</strong>\n",
       "    </th>\n",
       "</tr>\n",
       "\n",
       "<tr class=\"repr-element acquisition-3652e4ed-0319-450e-97c7-6217a9bc03db \">\n",
       "    <td class=\"repr-section-toggle-col\"></td>\n",
       "    <td>Duration</td>\n",
       "    <td>02:37:11 (HH:MM:SS)</td>\n",
       "</tr>\n",
       "\n",
       "\n",
       "\n",
       "\n",
       "\n",
       "\n",
       "\n",
       "\n",
       "<tr class=\"repr-element acquisition-3652e4ed-0319-450e-97c7-6217a9bc03db \">\n",
       "    <td class=\"repr-section-toggle-col\"></td>\n",
       "    <td>Sampling frequency</td>\n",
       "    <td>128.00 Hz</td>\n",
       "</tr>\n",
       "\n",
       "\n",
       "<tr class=\"repr-element acquisition-3652e4ed-0319-450e-97c7-6217a9bc03db \">\n",
       "    <td class=\"repr-section-toggle-col\"></td>\n",
       "    <td>Time points</td>\n",
       "    <td>1,207,069</td>\n",
       "</tr>\n",
       "\n",
       "\n",
       "    \n",
       "\n",
       "\n",
       "\n",
       "\n",
       "\n",
       "\n",
       "\n",
       "<tr class=\"repr-section-header channels-c90ce577-7a03-4823-a323-a8f588653b35\"  title=\"Hide section\" \n",
       "    onclick=\"toggleVisibility('channels-c90ce577-7a03-4823-a323-a8f588653b35')\">\n",
       "    <th class=\"repr-section-toggle-col\">\n",
       "        <button>\n",
       "            \n",
       "            <span class=\"collapse-uncollapse-caret\"></span>\n",
       "        </button>\n",
       "    </th>\n",
       "    <th colspan=\"2\">\n",
       "        <strong>Channels</strong>\n",
       "    </th>\n",
       "</tr>\n",
       "\n",
       "\n",
       "<tr class=\"repr-element channels-c90ce577-7a03-4823-a323-a8f588653b35 \">\n",
       "    <td class=\"repr-section-toggle-col\"></td>\n",
       "    <td>EEG</td>\n",
       "    <td>\n",
       "        <button class=\"channel-names-btn\" onclick=\"alert('Good EEG:\\n\\nFp1, Fp2, F3, F4, C3, C4, P3, P4, O1, O2, F7, F8, T7, T8, P7, P8, Fz, Cz, Pz')\" title=\"(Click to open in popup)&#13;&#13;Fp1, Fp2, F3, F4, C3, C4, P3, P4, O1, O2, F7, F8, T7, T8, P7, P8, Fz, Cz, Pz\">\n",
       "            19\n",
       "        </button>\n",
       "\n",
       "        \n",
       "    </td>\n",
       "</tr>\n",
       "\n",
       "\n",
       "<tr class=\"repr-element channels-c90ce577-7a03-4823-a323-a8f588653b35 \">\n",
       "    <td class=\"repr-section-toggle-col\"></td>\n",
       "    <td>Head & sensor digitization</td>\n",
       "    \n",
       "    <td>22 points</td>\n",
       "    \n",
       "</tr>\n",
       "    \n",
       "\n",
       "\n",
       "\n",
       "\n",
       "\n",
       "\n",
       "\n",
       "<tr class=\"repr-section-header filters-d0bf03c1-823d-4856-95d0-0f4a7c66f190\"  title=\"Hide section\" \n",
       "    onclick=\"toggleVisibility('filters-d0bf03c1-823d-4856-95d0-0f4a7c66f190')\">\n",
       "    <th class=\"repr-section-toggle-col\">\n",
       "        <button>\n",
       "            \n",
       "            <span class=\"collapse-uncollapse-caret\"></span>\n",
       "        </button>\n",
       "    </th>\n",
       "    <th colspan=\"2\">\n",
       "        <strong>Filters</strong>\n",
       "    </th>\n",
       "</tr>\n",
       "\n",
       "<tr class=\"repr-element filters-d0bf03c1-823d-4856-95d0-0f4a7c66f190 \">\n",
       "    <td class=\"repr-section-toggle-col\"></td>\n",
       "    <td>Highpass</td>\n",
       "    <td>0.00 Hz</td>\n",
       "</tr>\n",
       "\n",
       "\n",
       "<tr class=\"repr-element filters-d0bf03c1-823d-4856-95d0-0f4a7c66f190 \">\n",
       "    <td class=\"repr-section-toggle-col\"></td>\n",
       "    <td>Lowpass</td>\n",
       "    <td>40.00 Hz</td>\n",
       "</tr>\n",
       "\n",
       "\n",
       "</table>"
      ],
      "text/plain": [
       "<RawArray | 19 x 1207069 (9430.2 s), ~175.0 MB, data loaded>"
      ]
     },
     "execution_count": 60,
     "metadata": {},
     "output_type": "execute_result"
    }
   ],
   "source": []
  },
  {
   "cell_type": "code",
   "execution_count": null,
   "id": "54094642",
   "metadata": {},
   "outputs": [],
   "source": []
  },
  {
   "cell_type": "code",
   "execution_count": null,
   "id": "78370abb",
   "metadata": {},
   "outputs": [
    {
     "name": "stdout",
     "output_type": "stream",
     "text": [
      "NOTE: pick_types() is a legacy function. New code should use inst.pick(...).\n"
     ]
    }
   ],
   "source": []
  },
  {
   "cell_type": "code",
   "execution_count": null,
   "id": "82a74869",
   "metadata": {},
   "outputs": [
    {
     "name": "stdout",
     "output_type": "stream",
     "text": [
      "In run_latent_kmeans, use_gfp=False, n_inits=50\n",
      "in mod_kmeans, n-iter = 50\n"
     ]
    },
    {
     "name": "stderr",
     "output_type": "stream",
     "text": [
      "  0%|          | 0/50 [00:00<?, ?it/s]"
     ]
    },
    {
     "name": "stdout",
     "output_type": "stream",
     "text": [
      "Run kmeans init 1 / 50\n"
     ]
    },
    {
     "name": "stderr",
     "output_type": "stream",
     "text": [
      "  2%|▏         | 1/50 [00:12<10:13, 12.53s/it]"
     ]
    },
    {
     "name": "stdout",
     "output_type": "stream",
     "text": [
      "Run kmeans init 2 / 50\n"
     ]
    },
    {
     "name": "stderr",
     "output_type": "stream",
     "text": [
      "  4%|▍         | 2/50 [00:25<10:10, 12.71s/it]"
     ]
    },
    {
     "name": "stdout",
     "output_type": "stream",
     "text": [
      "Run kmeans init 3 / 50\n"
     ]
    },
    {
     "name": "stderr",
     "output_type": "stream",
     "text": [
      "  6%|▌         | 3/50 [00:36<09:16, 11.85s/it]"
     ]
    },
    {
     "name": "stdout",
     "output_type": "stream",
     "text": [
      "Run kmeans init 4 / 50\n"
     ]
    },
    {
     "name": "stderr",
     "output_type": "stream",
     "text": [
      "  8%|▊         | 4/50 [00:47<09:01, 11.77s/it]"
     ]
    },
    {
     "name": "stdout",
     "output_type": "stream",
     "text": [
      "Run kmeans init 5 / 50\n"
     ]
    },
    {
     "name": "stderr",
     "output_type": "stream",
     "text": [
      " 10%|█         | 5/50 [01:12<12:17, 16.38s/it]"
     ]
    },
    {
     "name": "stdout",
     "output_type": "stream",
     "text": [
      "Run kmeans init 6 / 50\n"
     ]
    },
    {
     "name": "stderr",
     "output_type": "stream",
     "text": [
      " 12%|█▏        | 6/50 [01:20<09:51, 13.44s/it]"
     ]
    },
    {
     "name": "stdout",
     "output_type": "stream",
     "text": [
      "Run kmeans init 7 / 50\n"
     ]
    },
    {
     "name": "stderr",
     "output_type": "stream",
     "text": [
      " 14%|█▍        | 7/50 [01:32<09:24, 13.14s/it]"
     ]
    },
    {
     "name": "stdout",
     "output_type": "stream",
     "text": [
      "Run kmeans init 8 / 50\n"
     ]
    },
    {
     "name": "stderr",
     "output_type": "stream",
     "text": [
      " 16%|█▌        | 8/50 [01:48<09:53, 14.13s/it]"
     ]
    },
    {
     "name": "stdout",
     "output_type": "stream",
     "text": [
      "Run kmeans init 9 / 50\n"
     ]
    },
    {
     "name": "stderr",
     "output_type": "stream",
     "text": [
      " 18%|█▊        | 9/50 [02:06<10:18, 15.09s/it]"
     ]
    },
    {
     "name": "stdout",
     "output_type": "stream",
     "text": [
      "Run kmeans init 10 / 50\n"
     ]
    },
    {
     "name": "stderr",
     "output_type": "stream",
     "text": [
      " 20%|██        | 10/50 [02:16<09:00, 13.51s/it]"
     ]
    },
    {
     "name": "stdout",
     "output_type": "stream",
     "text": [
      "Run kmeans init 11 / 50\n"
     ]
    },
    {
     "name": "stderr",
     "output_type": "stream",
     "text": [
      " 22%|██▏       | 11/50 [02:34<09:46, 15.04s/it]"
     ]
    },
    {
     "name": "stdout",
     "output_type": "stream",
     "text": [
      "Run kmeans init 12 / 50\n"
     ]
    },
    {
     "name": "stderr",
     "output_type": "stream",
     "text": [
      " 24%|██▍       | 12/50 [02:46<08:58, 14.17s/it]"
     ]
    },
    {
     "name": "stdout",
     "output_type": "stream",
     "text": [
      "Run kmeans init 13 / 50\n"
     ]
    },
    {
     "name": "stderr",
     "output_type": "stream",
     "text": [
      " 26%|██▌       | 13/50 [02:57<08:11, 13.28s/it]"
     ]
    },
    {
     "name": "stdout",
     "output_type": "stream",
     "text": [
      "Run kmeans init 14 / 50\n"
     ]
    },
    {
     "name": "stderr",
     "output_type": "stream",
     "text": [
      " 28%|██▊       | 14/50 [03:09<07:43, 12.89s/it]"
     ]
    },
    {
     "name": "stdout",
     "output_type": "stream",
     "text": [
      "Run kmeans init 15 / 50\n"
     ]
    },
    {
     "name": "stderr",
     "output_type": "stream",
     "text": [
      " 30%|███       | 15/50 [03:23<07:38, 13.10s/it]"
     ]
    },
    {
     "name": "stdout",
     "output_type": "stream",
     "text": [
      "Run kmeans init 16 / 50\n"
     ]
    },
    {
     "name": "stderr",
     "output_type": "stream",
     "text": [
      " 32%|███▏      | 16/50 [03:40<08:02, 14.21s/it]"
     ]
    },
    {
     "name": "stdout",
     "output_type": "stream",
     "text": [
      "Run kmeans init 17 / 50\n"
     ]
    },
    {
     "name": "stderr",
     "output_type": "stream",
     "text": [
      " 34%|███▍      | 17/50 [03:58<08:25, 15.30s/it]"
     ]
    },
    {
     "name": "stdout",
     "output_type": "stream",
     "text": [
      "Run kmeans init 18 / 50\n"
     ]
    },
    {
     "name": "stderr",
     "output_type": "stream",
     "text": [
      " 36%|███▌      | 18/50 [04:06<07:00, 13.13s/it]"
     ]
    },
    {
     "name": "stdout",
     "output_type": "stream",
     "text": [
      "Run kmeans init 19 / 50\n"
     ]
    },
    {
     "name": "stderr",
     "output_type": "stream",
     "text": [
      " 38%|███▊      | 19/50 [04:17<06:27, 12.51s/it]"
     ]
    },
    {
     "name": "stdout",
     "output_type": "stream",
     "text": [
      "Run kmeans init 20 / 50\n"
     ]
    },
    {
     "name": "stderr",
     "output_type": "stream",
     "text": [
      " 40%|████      | 20/50 [04:34<06:54, 13.83s/it]"
     ]
    },
    {
     "name": "stdout",
     "output_type": "stream",
     "text": [
      "Run kmeans init 21 / 50\n"
     ]
    },
    {
     "name": "stderr",
     "output_type": "stream",
     "text": [
      " 42%|████▏     | 21/50 [04:46<06:25, 13.30s/it]"
     ]
    },
    {
     "name": "stdout",
     "output_type": "stream",
     "text": [
      "Run kmeans init 22 / 50\n"
     ]
    },
    {
     "name": "stderr",
     "output_type": "stream",
     "text": [
      " 44%|████▍     | 22/50 [05:01<06:26, 13.81s/it]"
     ]
    },
    {
     "name": "stdout",
     "output_type": "stream",
     "text": [
      "Run kmeans init 23 / 50\n"
     ]
    },
    {
     "name": "stderr",
     "output_type": "stream",
     "text": [
      " 46%|████▌     | 23/50 [05:17<06:29, 14.44s/it]"
     ]
    },
    {
     "name": "stdout",
     "output_type": "stream",
     "text": [
      "Run kmeans init 24 / 50\n"
     ]
    },
    {
     "name": "stderr",
     "output_type": "stream",
     "text": [
      " 48%|████▊     | 24/50 [05:32<06:19, 14.58s/it]"
     ]
    },
    {
     "name": "stdout",
     "output_type": "stream",
     "text": [
      "Run kmeans init 25 / 50\n"
     ]
    },
    {
     "name": "stderr",
     "output_type": "stream",
     "text": [
      " 50%|█████     | 25/50 [05:42<05:35, 13.42s/it]"
     ]
    },
    {
     "name": "stdout",
     "output_type": "stream",
     "text": [
      "Run kmeans init 26 / 50\n"
     ]
    },
    {
     "name": "stderr",
     "output_type": "stream",
     "text": [
      " 52%|█████▏    | 26/50 [05:59<05:42, 14.25s/it]"
     ]
    },
    {
     "name": "stdout",
     "output_type": "stream",
     "text": [
      "Run kmeans init 27 / 50\n"
     ]
    },
    {
     "name": "stderr",
     "output_type": "stream",
     "text": [
      " 54%|█████▍    | 27/50 [06:07<04:50, 12.64s/it]"
     ]
    },
    {
     "name": "stdout",
     "output_type": "stream",
     "text": [
      "Run kmeans init 28 / 50\n"
     ]
    },
    {
     "name": "stderr",
     "output_type": "stream",
     "text": [
      " 56%|█████▌    | 28/50 [06:17<04:18, 11.76s/it]"
     ]
    },
    {
     "name": "stdout",
     "output_type": "stream",
     "text": [
      "Run kmeans init 29 / 50\n"
     ]
    },
    {
     "name": "stderr",
     "output_type": "stream",
     "text": [
      " 58%|█████▊    | 29/50 [06:27<03:57, 11.33s/it]"
     ]
    },
    {
     "name": "stdout",
     "output_type": "stream",
     "text": [
      "Run kmeans init 30 / 50\n"
     ]
    },
    {
     "name": "stderr",
     "output_type": "stream",
     "text": [
      " 60%|██████    | 30/50 [06:41<04:02, 12.12s/it]"
     ]
    },
    {
     "name": "stdout",
     "output_type": "stream",
     "text": [
      "Run kmeans init 31 / 50\n"
     ]
    },
    {
     "name": "stderr",
     "output_type": "stream",
     "text": [
      " 62%|██████▏   | 31/50 [06:58<04:13, 13.32s/it]"
     ]
    },
    {
     "name": "stdout",
     "output_type": "stream",
     "text": [
      "Run kmeans init 32 / 50\n"
     ]
    },
    {
     "name": "stderr",
     "output_type": "stream",
     "text": [
      " 64%|██████▍   | 32/50 [07:05<03:30, 11.69s/it]"
     ]
    },
    {
     "name": "stdout",
     "output_type": "stream",
     "text": [
      "Run kmeans init 33 / 50\n"
     ]
    },
    {
     "name": "stderr",
     "output_type": "stream",
     "text": [
      " 66%|██████▌   | 33/50 [07:20<03:33, 12.54s/it]"
     ]
    },
    {
     "name": "stdout",
     "output_type": "stream",
     "text": [
      "Run kmeans init 34 / 50\n"
     ]
    },
    {
     "name": "stderr",
     "output_type": "stream",
     "text": [
      " 68%|██████▊   | 34/50 [07:31<03:14, 12.14s/it]"
     ]
    },
    {
     "name": "stdout",
     "output_type": "stream",
     "text": [
      "Run kmeans init 35 / 50\n"
     ]
    },
    {
     "name": "stderr",
     "output_type": "stream",
     "text": [
      " 70%|███████   | 35/50 [07:44<03:03, 12.25s/it]"
     ]
    },
    {
     "name": "stdout",
     "output_type": "stream",
     "text": [
      "Run kmeans init 36 / 50\n"
     ]
    },
    {
     "name": "stderr",
     "output_type": "stream",
     "text": [
      " 72%|███████▏  | 36/50 [07:53<02:41, 11.53s/it]"
     ]
    },
    {
     "name": "stdout",
     "output_type": "stream",
     "text": [
      "Run kmeans init 37 / 50\n"
     ]
    },
    {
     "name": "stderr",
     "output_type": "stream",
     "text": [
      " 74%|███████▍  | 37/50 [08:01<02:13, 10.29s/it]"
     ]
    },
    {
     "name": "stdout",
     "output_type": "stream",
     "text": [
      "Run kmeans init 38 / 50\n"
     ]
    },
    {
     "name": "stderr",
     "output_type": "stream",
     "text": [
      " 76%|███████▌  | 38/50 [08:09<01:56,  9.71s/it]"
     ]
    },
    {
     "name": "stdout",
     "output_type": "stream",
     "text": [
      "Run kmeans init 39 / 50\n"
     ]
    },
    {
     "name": "stderr",
     "output_type": "stream",
     "text": [
      " 78%|███████▊  | 39/50 [08:23<02:00, 10.94s/it]"
     ]
    },
    {
     "name": "stdout",
     "output_type": "stream",
     "text": [
      "Run kmeans init 40 / 50\n"
     ]
    },
    {
     "name": "stderr",
     "output_type": "stream",
     "text": [
      " 80%|████████  | 40/50 [08:35<01:51, 11.14s/it]"
     ]
    },
    {
     "name": "stdout",
     "output_type": "stream",
     "text": [
      "Run kmeans init 41 / 50\n"
     ]
    },
    {
     "name": "stderr",
     "output_type": "stream",
     "text": [
      " 82%|████████▏ | 41/50 [08:41<01:28,  9.84s/it]"
     ]
    },
    {
     "name": "stdout",
     "output_type": "stream",
     "text": [
      "Run kmeans init 42 / 50\n"
     ]
    },
    {
     "name": "stderr",
     "output_type": "stream",
     "text": [
      " 84%|████████▍ | 42/50 [08:52<01:19,  9.94s/it]"
     ]
    },
    {
     "name": "stdout",
     "output_type": "stream",
     "text": [
      "Run kmeans init 43 / 50\n"
     ]
    },
    {
     "name": "stderr",
     "output_type": "stream",
     "text": [
      " 86%|████████▌ | 43/50 [09:03<01:12, 10.41s/it]"
     ]
    },
    {
     "name": "stdout",
     "output_type": "stream",
     "text": [
      "Run kmeans init 44 / 50\n"
     ]
    },
    {
     "name": "stderr",
     "output_type": "stream",
     "text": [
      " 88%|████████▊ | 44/50 [09:12<00:58,  9.82s/it]"
     ]
    },
    {
     "name": "stdout",
     "output_type": "stream",
     "text": [
      "Run kmeans init 45 / 50\n"
     ]
    },
    {
     "name": "stderr",
     "output_type": "stream",
     "text": [
      " 90%|█████████ | 45/50 [09:21<00:47,  9.60s/it]"
     ]
    },
    {
     "name": "stdout",
     "output_type": "stream",
     "text": [
      "Run kmeans init 46 / 50\n"
     ]
    },
    {
     "name": "stderr",
     "output_type": "stream",
     "text": [
      " 92%|█████████▏| 46/50 [09:28<00:35,  8.81s/it]"
     ]
    },
    {
     "name": "stdout",
     "output_type": "stream",
     "text": [
      "Run kmeans init 47 / 50\n"
     ]
    },
    {
     "name": "stderr",
     "output_type": "stream",
     "text": [
      " 94%|█████████▍| 47/50 [09:39<00:28,  9.60s/it]"
     ]
    },
    {
     "name": "stdout",
     "output_type": "stream",
     "text": [
      "Run kmeans init 48 / 50\n"
     ]
    },
    {
     "name": "stderr",
     "output_type": "stream",
     "text": [
      " 96%|█████████▌| 48/50 [09:47<00:18,  9.04s/it]"
     ]
    },
    {
     "name": "stdout",
     "output_type": "stream",
     "text": [
      "Run kmeans init 49 / 50\n"
     ]
    },
    {
     "name": "stderr",
     "output_type": "stream",
     "text": [
      " 98%|█████████▊| 49/50 [10:04<00:11, 11.60s/it]"
     ]
    },
    {
     "name": "stdout",
     "output_type": "stream",
     "text": [
      "Run kmeans init 50 / 50\n"
     ]
    },
    {
     "name": "stderr",
     "output_type": "stream",
     "text": [
      "100%|██████████| 50/50 [10:15<00:00, 12.31s/it]\n"
     ]
    }
   ],
   "source": []
  },
  {
   "cell_type": "code",
   "execution_count": null,
   "id": "f09d1648",
   "metadata": {},
   "outputs": [
    {
     "data": {
      "text/plain": [
       "np.float64(0.954191621952299)"
      ]
     },
     "execution_count": 76,
     "metadata": {},
     "output_type": "execute_result"
    }
   ],
   "source": [
    "recording.gev_tot"
   ]
  },
  {
   "cell_type": "code",
   "execution_count": null,
   "id": "e9b51228",
   "metadata": {},
   "outputs": [
    {
     "data": {
      "text/plain": [
       "(1207069,)"
      ]
     },
     "execution_count": 80,
     "metadata": {},
     "output_type": "execute_result"
    }
   ],
   "source": [
    "recording.latent_segmentation.shape"
   ]
  },
  {
   "cell_type": "code",
   "execution_count": null,
   "id": "ff5ac2bb",
   "metadata": {},
   "outputs": [],
   "source": []
  }
 ],
 "metadata": {
  "kernelspec": {
   "display_name": "embs-bhi2025",
   "language": "python",
   "name": "python3"
  },
  "language_info": {
   "codemirror_mode": {
    "name": "ipython",
    "version": 3
   },
   "file_extension": ".py",
   "mimetype": "text/x-python",
   "name": "python",
   "nbconvert_exporter": "python",
   "pygments_lexer": "ipython3",
   "version": "3.9.22"
  }
 },
 "nbformat": 4,
 "nbformat_minor": 5
}
