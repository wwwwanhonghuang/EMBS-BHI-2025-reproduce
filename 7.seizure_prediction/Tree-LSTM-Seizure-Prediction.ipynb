{
 "cells": [
  {
   "cell_type": "markdown",
   "id": "1af6ac4e-fd64-4a46-90df-dcca726d464d",
   "metadata": {},
   "source": [
    "# 0. Prepare the dependencies"
   ]
  },
  {
   "cell_type": "code",
   "execution_count": 1,
   "id": "df9404bf-d1b1-4770-826b-1431e1380803",
   "metadata": {},
   "outputs": [
    {
     "name": "stdout",
     "output_type": "stream",
     "text": [
      "Requirement already satisfied: torch-geometric in /home/wanhong-huang/miniconda3/envs/embc2025/lib/python3.9/site-packages (2.6.1)\n",
      "Requirement already satisfied: aiohttp in /home/wanhong-huang/miniconda3/envs/embc2025/lib/python3.9/site-packages (from torch-geometric) (3.11.13)\n",
      "Requirement already satisfied: fsspec in /home/wanhong-huang/miniconda3/envs/embc2025/lib/python3.9/site-packages (from torch-geometric) (2024.6.1)\n",
      "Requirement already satisfied: jinja2 in /home/wanhong-huang/miniconda3/envs/embc2025/lib/python3.9/site-packages (from torch-geometric) (3.1.5)\n",
      "Requirement already satisfied: numpy in /home/wanhong-huang/miniconda3/envs/embc2025/lib/python3.9/site-packages (from torch-geometric) (2.0.2)\n",
      "Requirement already satisfied: psutil>=5.8.0 in /home/wanhong-huang/miniconda3/envs/embc2025/lib/python3.9/site-packages (from torch-geometric) (6.1.1)\n",
      "Requirement already satisfied: pyparsing in /home/wanhong-huang/miniconda3/envs/embc2025/lib/python3.9/site-packages (from torch-geometric) (3.2.1)\n",
      "Requirement already satisfied: requests in /home/wanhong-huang/miniconda3/envs/embc2025/lib/python3.9/site-packages (from torch-geometric) (2.32.3)\n",
      "Requirement already satisfied: tqdm in /home/wanhong-huang/miniconda3/envs/embc2025/lib/python3.9/site-packages (from torch-geometric) (4.67.1)\n",
      "Requirement already satisfied: aiohappyeyeballs>=2.3.0 in /home/wanhong-huang/miniconda3/envs/embc2025/lib/python3.9/site-packages (from aiohttp->torch-geometric) (2.5.0)\n",
      "Requirement already satisfied: aiosignal>=1.1.2 in /home/wanhong-huang/miniconda3/envs/embc2025/lib/python3.9/site-packages (from aiohttp->torch-geometric) (1.3.2)\n",
      "Requirement already satisfied: async-timeout<6.0,>=4.0 in /home/wanhong-huang/miniconda3/envs/embc2025/lib/python3.9/site-packages (from aiohttp->torch-geometric) (5.0.1)\n",
      "Requirement already satisfied: attrs>=17.3.0 in /home/wanhong-huang/miniconda3/envs/embc2025/lib/python3.9/site-packages (from aiohttp->torch-geometric) (24.3.0)\n",
      "Requirement already satisfied: frozenlist>=1.1.1 in /home/wanhong-huang/miniconda3/envs/embc2025/lib/python3.9/site-packages (from aiohttp->torch-geometric) (1.5.0)\n",
      "Requirement already satisfied: multidict<7.0,>=4.5 in /home/wanhong-huang/miniconda3/envs/embc2025/lib/python3.9/site-packages (from aiohttp->torch-geometric) (6.1.0)\n",
      "Requirement already satisfied: propcache>=0.2.0 in /home/wanhong-huang/miniconda3/envs/embc2025/lib/python3.9/site-packages (from aiohttp->torch-geometric) (0.3.0)\n",
      "Requirement already satisfied: yarl<2.0,>=1.17.0 in /home/wanhong-huang/miniconda3/envs/embc2025/lib/python3.9/site-packages (from aiohttp->torch-geometric) (1.18.3)\n",
      "Requirement already satisfied: MarkupSafe>=2.0 in /home/wanhong-huang/miniconda3/envs/embc2025/lib/python3.9/site-packages (from jinja2->torch-geometric) (3.0.2)\n",
      "Requirement already satisfied: charset-normalizer<4,>=2 in /home/wanhong-huang/miniconda3/envs/embc2025/lib/python3.9/site-packages (from requests->torch-geometric) (3.4.1)\n",
      "Requirement already satisfied: idna<4,>=2.5 in /home/wanhong-huang/miniconda3/envs/embc2025/lib/python3.9/site-packages (from requests->torch-geometric) (3.10)\n",
      "Requirement already satisfied: urllib3<3,>=1.21.1 in /home/wanhong-huang/miniconda3/envs/embc2025/lib/python3.9/site-packages (from requests->torch-geometric) (2.3.0)\n",
      "Requirement already satisfied: certifi>=2017.4.17 in /home/wanhong-huang/miniconda3/envs/embc2025/lib/python3.9/site-packages (from requests->torch-geometric) (2024.12.14)\n",
      "Requirement already satisfied: typing-extensions>=4.1.0 in /home/wanhong-huang/miniconda3/envs/embc2025/lib/python3.9/site-packages (from multidict<7.0,>=4.5->aiohttp->torch-geometric) (4.12.2)\n"
     ]
    }
   ],
   "source": [
    "# 1. install pytorch\n",
    "  ## Please follow instruction in https://pytorch.org/get-started/locally/\n",
    "\n",
    "# 2. install torch-geometric\n",
    "!pip install torch-geometric"
   ]
  },
  {
   "cell_type": "code",
   "execution_count": 6,
   "id": "8903c030-e46e-48a6-b236-570bbf1f3ead",
   "metadata": {},
   "outputs": [],
   "source": [
    "from tqdm import tqdm\n",
    "import torch"
   ]
  },
  {
   "cell_type": "markdown",
   "id": "7c66a87e-b27e-4e1b-bef1-bda347b2e311",
   "metadata": {},
   "source": [
    "# 1. Prepare data structure and configurations"
   ]
  },
  {
   "cell_type": "code",
   "execution_count": 7,
   "id": "d49c9cee-0971-4436-8418-d391450812de",
   "metadata": {},
   "outputs": [],
   "source": [
    "from data_structures.tree import SyntaxTreeNode\n",
    "from dataset.tree_dataset import TreeDataset"
   ]
  },
  {
   "cell_type": "markdown",
   "id": "231525d4-f395-4666-829e-fbfef002f5ed",
   "metadata": {},
   "source": [
    "# 2. Prepare Dataset"
   ]
  },
  {
   "cell_type": "code",
   "execution_count": 8,
   "id": "f6174582-3e60-45b4-bc2b-1bc04129253b",
   "metadata": {},
   "outputs": [],
   "source": [
    "from dataset.samplers import ProportionalWeightedRandomSamplerBuilder\n",
    "from dataset.dataset_splitter import RatioBasedDataSetSplitter\n",
    "from dataset.data_loader_builder import default_supervised_collate_fn, DataLoaderBuilder"
   ]
  },
  {
   "cell_type": "code",
   "execution_count": 9,
   "id": "fdc48ff0-acf2-4ad7-ba9d-50761185721f",
   "metadata": {},
   "outputs": [],
   "source": [
    "n_classes = 3"
   ]
  },
  {
   "cell_type": "code",
   "execution_count": 10,
   "id": "75f2f73b-35d3-4267-8abb-cb682f000def",
   "metadata": {},
   "outputs": [
    {
     "name": "stdout",
     "output_type": "stream",
     "text": [
      "Add 4047936 for category normal\n",
      "Add 28084 for category seizure\n",
      "Add 152313 for category pre-epileptic\n"
     ]
    }
   ],
   "source": [
    "tree_records_base_path = \"../data/serialized_tree\"\n",
    "dataset_types = [\"normal\", \"seizure\", \"pre-epileptic\"]\n",
    "dataset = TreeDataset(dataset_types, tree_records_base_path)"
   ]
  },
  {
   "cell_type": "code",
   "execution_count": 11,
   "id": "e9fcba41-3291-4e6e-926f-f77b8c3caf75",
   "metadata": {},
   "outputs": [],
   "source": [
    "dataset_splitter = RatioBasedDataSetSplitter(dataset)"
   ]
  },
  {
   "cell_type": "code",
   "execution_count": 12,
   "id": "c080ed08-ef26-4261-b539-1d388a386a17",
   "metadata": {},
   "outputs": [
    {
     "name": "stdout",
     "output_type": "stream",
     "text": [
      "Train size: 3382666\n",
      "Validation size: 422833\n",
      "Test size: 422834\n"
     ]
    }
   ],
   "source": [
    "splitted_dataset = dataset_splitter.split_dataset()"
   ]
  },
  {
   "cell_type": "code",
   "execution_count": 13,
   "id": "7a4187a8-2285-48d1-87d3-4fa2ba3b4573",
   "metadata": {},
   "outputs": [],
   "source": [
    "train_subset = splitted_dataset[\"train_set\"]\n",
    "val_subset = splitted_dataset[\"val_set\"]\n",
    "test_subset = splitted_dataset[\"test_set\"]"
   ]
  },
  {
   "cell_type": "code",
   "execution_count": 14,
   "id": "07bed99c-237d-401a-ba1e-c189a89db194",
   "metadata": {},
   "outputs": [],
   "source": [
    "train_labels = [dataset.labels[i] for i in splitted_dataset[\"train_set_indexes\"]]"
   ]
  },
  {
   "cell_type": "code",
   "execution_count": 15,
   "id": "7e9583b3-e768-4871-ae51-10c819de65c4",
   "metadata": {},
   "outputs": [],
   "source": [
    "sampler_builder = ProportionalWeightedRandomSamplerBuilder()\n",
    "sampler, weights = sampler_builder.build(n_classes = 3, labels = train_labels, return_weights = True)"
   ]
  },
  {
   "cell_type": "code",
   "execution_count": 16,
   "id": "cf94c3e5-a85b-4630-bb8a-990a6d9064a1",
   "metadata": {},
   "outputs": [
    {
     "data": {
      "text/plain": [
       "({0: 1.0445649928404876, 1: 150.56153469533092, 2: 27.760902749281904},\n",
       " <torch.utils.data.sampler.WeightedRandomSampler at 0x71216b6d8f70>)"
      ]
     },
     "execution_count": 16,
     "metadata": {},
     "output_type": "execute_result"
    }
   ],
   "source": [
    "weights, sampler"
   ]
  },
  {
   "cell_type": "code",
   "execution_count": 17,
   "id": "4ca43ef8-daf1-4c59-b828-535c6322a034",
   "metadata": {},
   "outputs": [],
   "source": [
    "# A function that describe how pytorch to generate a representation of batch.\n",
    "# This function if needed if the dataset return a data structure that the pytorch cannot recognize, e.g., the TreeNode above.\n",
    "def collate_fn(batch):\n",
    "    # Extract trees and labels from the batch\n",
    "    trees = [item[\"tree\"] for item in batch]\n",
    "    labels = torch.stack([item[\"labels\"] for item in batch])\n",
    "\n",
    "    # Return the batch as a dictionary\n",
    "    return {\"tree\": trees, \"labels\": labels}"
   ]
  },
  {
   "cell_type": "code",
   "execution_count": 18,
   "id": "e7d039cc-a134-47f5-925e-505446d986e8",
   "metadata": {},
   "outputs": [],
   "source": [
    "data_loader_builder = DataLoaderBuilder()\n",
    "data_loaders = data_loader_builder.build(train_subset, val_subset, test_subset, train_sampler = sampler, batch_size = 32,\n",
    "                         collate_fn_train = collate_fn, collate_fn_val = collate_fn, collate_fn_test = collate_fn)"
   ]
  },
  {
   "cell_type": "code",
   "execution_count": 19,
   "id": "f5891f05-5635-41a9-8950-25fbcfa9489b",
   "metadata": {},
   "outputs": [],
   "source": [
    "train_loader = data_loaders[\"train_loader\"]\n",
    "val_loader = data_loaders[\"val_loader\"]\n",
    "test_loader = data_loaders[\"test_loader\"]"
   ]
  },
  {
   "cell_type": "code",
   "execution_count": 20,
   "id": "b9d68447-949b-4534-aa83-c8ef0b313d35",
   "metadata": {},
   "outputs": [],
   "source": [
    "# Function to print the count of each label in the dataset\n",
    "def print_label_counts(loader, dataset_type=\"train\"):\n",
    "    # Initialize label counts\n",
    "    label_counts = {0: 0, 1: 0, 2: 0}  # Assuming 3 classes (normal=0, seizure=1, pre-epileptic=2)\n",
    "    \n",
    "    # Iterate over the dataset in the loader to count each label\n",
    "    for sample in tqdm(loader):\n",
    "        labels = sample[\"labels\"]\n",
    "        for label in labels:\n",
    "            label_counts[label.item()] += 1\n",
    "    for label, count in label_counts.items():\n",
    "        print(f\"Class {label}: {count} samples\")\n",
    "\n",
    "# # Print label counts for train, validation, and test loaders\n",
    "# print_label_counts(train_loader, dataset_type=\"train\")\n",
    "# print_label_counts(val_loader, dataset_type=\"validation\")\n",
    "# print_label_counts(test_loader, dataset_type=\"test\")"
   ]
  },
  {
   "cell_type": "markdown",
   "id": "eec648e3-8573-47f7-b422-b91b47d351b8",
   "metadata": {},
   "source": [
    "# 3. Prepare Model"
   ]
  },
  {
   "cell_type": "code",
   "execution_count": 21,
   "id": "49638cbb-6667-4ace-a432-ffe242f21d7f",
   "metadata": {},
   "outputs": [],
   "source": [
    "from models.tree_lstm import SeizurePredictionInputEmbeddingPreprocessor, BinaryTreeLSTMCell, BinaryTreeLSTM\n",
    "from utils.utils import calculate_metrics"
   ]
  },
  {
   "cell_type": "code",
   "execution_count": 22,
   "id": "774e4192-5b01-4964-9bc4-e5ccb9637755",
   "metadata": {},
   "outputs": [],
   "source": [
    "import torch.optim as optim\n",
    "import torch\n",
    "from torch import nn\n",
    "from tqdm import tqdm\n",
    "from sklearn.metrics import confusion_matrix\n",
    "import numpy as np\n",
    "\n",
    "# Hyperparameters\n",
    "input_size = 32 * 3 + 64 + 1  # Size of the node value tuple\n",
    "hidden_size = 64\n",
    "num_classes = 3  # Normal, seizure, pre-epileptic\n",
    "learning_rate = 0.001\n",
    "num_epochs = 10\n",
    "\n",
    "# Initialize model, loss function, and optimizer\n",
    "embedding_model = SeizurePredictionInputEmbeddingPreprocessor(unique_symbols = 96, \\\n",
    "                                                              symbol_embedding_size = 32, \\\n",
    "                                                              unique_grammar = 182, \\\n",
    "                                                              grammar_embedding_size = 64)\n",
    "model = BinaryTreeLSTM(input_size, hidden_size, num_classes, input_embedding_model = embedding_model)\n",
    "criterion = nn.CrossEntropyLoss()\n",
    "optimizer = optim.Adam(model.parameters(), lr=learning_rate)\n"
   ]
  },
  {
   "cell_type": "code",
   "execution_count": 23,
   "id": "58591a44-a743-44cc-a52b-c2341be23bbf",
   "metadata": {},
   "outputs": [
    {
     "name": "stderr",
     "output_type": "stream",
     "text": [
      "  0%|                                                                                             | 7/105709 [00:07<31:42:08,  1.08s/it]\n"
     ]
    },
    {
     "ename": "KeyboardInterrupt",
     "evalue": "",
     "output_type": "error",
     "traceback": [
      "\u001b[0;31m---------------------------------------------------------------------------\u001b[0m",
      "\u001b[0;31mKeyboardInterrupt\u001b[0m                         Traceback (most recent call last)",
      "Cell \u001b[0;32mIn[23], line 24\u001b[0m\n\u001b[1;32m     22\u001b[0m \u001b[38;5;66;03m# Backward pass\u001b[39;00m\n\u001b[1;32m     23\u001b[0m optimizer\u001b[38;5;241m.\u001b[39mzero_grad()\n\u001b[0;32m---> 24\u001b[0m \u001b[43mloss\u001b[49m\u001b[38;5;241;43m.\u001b[39;49m\u001b[43mbackward\u001b[49m\u001b[43m(\u001b[49m\u001b[43m)\u001b[49m\n\u001b[1;32m     25\u001b[0m optimizer\u001b[38;5;241m.\u001b[39mstep()\n\u001b[1;32m     27\u001b[0m total_loss \u001b[38;5;241m+\u001b[39m\u001b[38;5;241m=\u001b[39m loss\u001b[38;5;241m.\u001b[39mitem()\n",
      "File \u001b[0;32m~/miniconda3/envs/embc2025/lib/python3.9/site-packages/torch/_tensor.py:626\u001b[0m, in \u001b[0;36mTensor.backward\u001b[0;34m(self, gradient, retain_graph, create_graph, inputs)\u001b[0m\n\u001b[1;32m    616\u001b[0m \u001b[38;5;28;01mif\u001b[39;00m has_torch_function_unary(\u001b[38;5;28mself\u001b[39m):\n\u001b[1;32m    617\u001b[0m     \u001b[38;5;28;01mreturn\u001b[39;00m handle_torch_function(\n\u001b[1;32m    618\u001b[0m         Tensor\u001b[38;5;241m.\u001b[39mbackward,\n\u001b[1;32m    619\u001b[0m         (\u001b[38;5;28mself\u001b[39m,),\n\u001b[0;32m   (...)\u001b[0m\n\u001b[1;32m    624\u001b[0m         inputs\u001b[38;5;241m=\u001b[39minputs,\n\u001b[1;32m    625\u001b[0m     )\n\u001b[0;32m--> 626\u001b[0m \u001b[43mtorch\u001b[49m\u001b[38;5;241;43m.\u001b[39;49m\u001b[43mautograd\u001b[49m\u001b[38;5;241;43m.\u001b[39;49m\u001b[43mbackward\u001b[49m\u001b[43m(\u001b[49m\n\u001b[1;32m    627\u001b[0m \u001b[43m    \u001b[49m\u001b[38;5;28;43mself\u001b[39;49m\u001b[43m,\u001b[49m\u001b[43m \u001b[49m\u001b[43mgradient\u001b[49m\u001b[43m,\u001b[49m\u001b[43m \u001b[49m\u001b[43mretain_graph\u001b[49m\u001b[43m,\u001b[49m\u001b[43m \u001b[49m\u001b[43mcreate_graph\u001b[49m\u001b[43m,\u001b[49m\u001b[43m \u001b[49m\u001b[43minputs\u001b[49m\u001b[38;5;241;43m=\u001b[39;49m\u001b[43minputs\u001b[49m\n\u001b[1;32m    628\u001b[0m \u001b[43m\u001b[49m\u001b[43m)\u001b[49m\n",
      "File \u001b[0;32m~/miniconda3/envs/embc2025/lib/python3.9/site-packages/torch/autograd/__init__.py:347\u001b[0m, in \u001b[0;36mbackward\u001b[0;34m(tensors, grad_tensors, retain_graph, create_graph, grad_variables, inputs)\u001b[0m\n\u001b[1;32m    342\u001b[0m     retain_graph \u001b[38;5;241m=\u001b[39m create_graph\n\u001b[1;32m    344\u001b[0m \u001b[38;5;66;03m# The reason we repeat the same comment below is that\u001b[39;00m\n\u001b[1;32m    345\u001b[0m \u001b[38;5;66;03m# some Python versions print out the first line of a multi-line function\u001b[39;00m\n\u001b[1;32m    346\u001b[0m \u001b[38;5;66;03m# calls in the traceback and some print out the last line\u001b[39;00m\n\u001b[0;32m--> 347\u001b[0m \u001b[43m_engine_run_backward\u001b[49m\u001b[43m(\u001b[49m\n\u001b[1;32m    348\u001b[0m \u001b[43m    \u001b[49m\u001b[43mtensors\u001b[49m\u001b[43m,\u001b[49m\n\u001b[1;32m    349\u001b[0m \u001b[43m    \u001b[49m\u001b[43mgrad_tensors_\u001b[49m\u001b[43m,\u001b[49m\n\u001b[1;32m    350\u001b[0m \u001b[43m    \u001b[49m\u001b[43mretain_graph\u001b[49m\u001b[43m,\u001b[49m\n\u001b[1;32m    351\u001b[0m \u001b[43m    \u001b[49m\u001b[43mcreate_graph\u001b[49m\u001b[43m,\u001b[49m\n\u001b[1;32m    352\u001b[0m \u001b[43m    \u001b[49m\u001b[43minputs\u001b[49m\u001b[43m,\u001b[49m\n\u001b[1;32m    353\u001b[0m \u001b[43m    \u001b[49m\u001b[43mallow_unreachable\u001b[49m\u001b[38;5;241;43m=\u001b[39;49m\u001b[38;5;28;43;01mTrue\u001b[39;49;00m\u001b[43m,\u001b[49m\n\u001b[1;32m    354\u001b[0m \u001b[43m    \u001b[49m\u001b[43maccumulate_grad\u001b[49m\u001b[38;5;241;43m=\u001b[39;49m\u001b[38;5;28;43;01mTrue\u001b[39;49;00m\u001b[43m,\u001b[49m\n\u001b[1;32m    355\u001b[0m \u001b[43m\u001b[49m\u001b[43m)\u001b[49m\n",
      "File \u001b[0;32m~/miniconda3/envs/embc2025/lib/python3.9/site-packages/torch/autograd/graph.py:823\u001b[0m, in \u001b[0;36m_engine_run_backward\u001b[0;34m(t_outputs, *args, **kwargs)\u001b[0m\n\u001b[1;32m    821\u001b[0m     unregister_hooks \u001b[38;5;241m=\u001b[39m _register_logging_hooks_on_whole_graph(t_outputs)\n\u001b[1;32m    822\u001b[0m \u001b[38;5;28;01mtry\u001b[39;00m:\n\u001b[0;32m--> 823\u001b[0m     \u001b[38;5;28;01mreturn\u001b[39;00m \u001b[43mVariable\u001b[49m\u001b[38;5;241;43m.\u001b[39;49m\u001b[43m_execution_engine\u001b[49m\u001b[38;5;241;43m.\u001b[39;49m\u001b[43mrun_backward\u001b[49m\u001b[43m(\u001b[49m\u001b[43m  \u001b[49m\u001b[38;5;66;43;03m# Calls into the C++ engine to run the backward pass\u001b[39;49;00m\n\u001b[1;32m    824\u001b[0m \u001b[43m        \u001b[49m\u001b[43mt_outputs\u001b[49m\u001b[43m,\u001b[49m\u001b[43m \u001b[49m\u001b[38;5;241;43m*\u001b[39;49m\u001b[43margs\u001b[49m\u001b[43m,\u001b[49m\u001b[43m \u001b[49m\u001b[38;5;241;43m*\u001b[39;49m\u001b[38;5;241;43m*\u001b[39;49m\u001b[43mkwargs\u001b[49m\n\u001b[1;32m    825\u001b[0m \u001b[43m    \u001b[49m\u001b[43m)\u001b[49m  \u001b[38;5;66;03m# Calls into the C++ engine to run the backward pass\u001b[39;00m\n\u001b[1;32m    826\u001b[0m \u001b[38;5;28;01mfinally\u001b[39;00m:\n\u001b[1;32m    827\u001b[0m     \u001b[38;5;28;01mif\u001b[39;00m attach_logging_hooks:\n",
      "\u001b[0;31mKeyboardInterrupt\u001b[0m: "
     ]
    }
   ],
   "source": [
    "def forwarding(batch):\n",
    "    trees = batch[\"tree\"]\n",
    "    labels = batch[\"labels\"]\n",
    "    logits = model(trees)\n",
    "    loss = criterion(logits, labels)\n",
    "    return logits, labels, loss\n",
    "\n",
    "enable_summary_confusion_matrix = True\n",
    "\n",
    "# Training loop\n",
    "for epoch in range(num_epochs):\n",
    "    model.train()\n",
    "    total_loss = 0\n",
    "    if enable_summary_confusion_matrix:\n",
    "        all_preds = []\n",
    "        all_labels = []\n",
    "    \n",
    "    for batch in tqdm(train_loader):\n",
    "        # Forward pass\n",
    "        logits, labels, loss = forwarding(batch)\n",
    "        \n",
    "        # Backward pass\n",
    "        optimizer.zero_grad()\n",
    "        loss.backward()\n",
    "        optimizer.step()\n",
    "\n",
    "        total_loss += loss.item()\n",
    "\n",
    "        if enable_summary_confusion_matrix:\n",
    "            # Store predictions and labels for metrics\n",
    "            preds = torch.argmax(logits, dim=1)\n",
    "            all_preds.extend(preds.cpu().numpy())\n",
    "            all_labels.extend(labels.cpu().numpy())\n",
    "\n",
    "    if enable_summary_confusion_matrix:\n",
    "        # Calculate training metrics\n",
    "        train_conf_matrix = confusion_matrix(all_labels, all_preds)\n",
    "        train_metrics = calculate_metrics(train_conf_matrix)\n",
    "    \n",
    "        print(f\"Epoch {epoch + 1}, Loss: {total_loss:.4f}\")\n",
    "        print(f\"Training Metrics: {train_metrics}\")\n",
    "    print(f\"Training Loss: {total_loss:.4f}\")\n",
    "    \n",
    "    if enable_summary_confusion_matrix:\n",
    "        print(f\"Training Metrics: {train_metrics}\")\n",
    "    \n",
    "    # Validation\n",
    "    model.eval()\n",
    "    val_loss = 0\n",
    "    if enable_summary_confusion_matrix:\n",
    "        val_preds = []\n",
    "        val_labels = []\n",
    "\n",
    "    with torch.no_grad():\n",
    "        for batch in tqdm(val_loader):\n",
    "            trees = batch[\"tree\"]\n",
    "            labels = batch[\"labels\"]\n",
    "    \n",
    "            # Forward pass\n",
    "            logits = model(trees)\n",
    "            loss = criterion(logits, labels)\n",
    "            \n",
    "            val_loss += loss.item()\n",
    "            \n",
    "            if enable_summary_confusion_matrix:\n",
    "                preds = torch.argmax(logits, dim=1)\n",
    "                val_preds.extend(preds.cpu().numpy())\n",
    "                val_labels.extend(labels.cpu().numpy())\n",
    "    \n",
    "    if enable_summary_confusion_matrix:\n",
    "        val_conf_matrix = confusion_matrix(val_labels, val_preds)\n",
    "        val_metrics = calculate_metrics(val_conf_matrix)\n",
    "        \n",
    "    print(f\"Validation Loss: {val_loss:.4f}\")\n",
    "    \n",
    "    if enable_summary_confusion_matrix:\n",
    "        print(f\"Validation Metrics: {val_metrics}\")\n",
    "    \n",
    "    print(f\"Epoch [{epoch+1}/{num_epochs}], Loss: {loss.item():.4f}\")"
   ]
  },
  {
   "cell_type": "code",
   "execution_count": null,
   "id": "45bec31a-0fe3-4dae-8aa7-2c88b758cf8d",
   "metadata": {},
   "outputs": [],
   "source": []
  },
  {
   "cell_type": "code",
   "execution_count": null,
   "id": "29fb603f-ee0f-4d74-a815-2bbe366f9de1",
   "metadata": {},
   "outputs": [],
   "source": []
  },
  {
   "cell_type": "code",
   "execution_count": null,
   "id": "158fcd02-fe18-4ca1-8e4c-26996b7caf38",
   "metadata": {},
   "outputs": [],
   "source": []
  },
  {
   "cell_type": "code",
   "execution_count": null,
   "id": "876f931d-c628-4421-a8b2-5a3d79b22a52",
   "metadata": {},
   "outputs": [],
   "source": []
  },
  {
   "cell_type": "code",
   "execution_count": null,
   "id": "d0479a80-e0fa-4351-acb4-a80bbba02f2e",
   "metadata": {},
   "outputs": [],
   "source": []
  },
  {
   "cell_type": "code",
   "execution_count": null,
   "id": "39668237-ed9e-4375-a128-036ea64c0f72",
   "metadata": {},
   "outputs": [],
   "source": []
  },
  {
   "cell_type": "code",
   "execution_count": null,
   "id": "dc2dc888-f581-43e6-bdae-248fd78e19d9",
   "metadata": {},
   "outputs": [],
   "source": []
  },
  {
   "cell_type": "code",
   "execution_count": null,
   "id": "a3af21e7-3723-4703-b082-5dbf870a60cb",
   "metadata": {},
   "outputs": [],
   "source": []
  },
  {
   "cell_type": "code",
   "execution_count": null,
   "id": "934bb01c-75d0-4b04-9f43-d795393868e9",
   "metadata": {},
   "outputs": [],
   "source": []
  },
  {
   "cell_type": "code",
   "execution_count": null,
   "id": "3ee2ab80-16fc-4fe5-9725-06ca8080fc59",
   "metadata": {},
   "outputs": [],
   "source": []
  },
  {
   "cell_type": "code",
   "execution_count": null,
   "id": "6159180f-db7b-4b2e-b7e3-93a81b6ea88d",
   "metadata": {},
   "outputs": [],
   "source": []
  }
 ],
 "metadata": {
  "kernelspec": {
   "display_name": "Python 3 (ipykernel)",
   "language": "python",
   "name": "python3"
  },
  "language_info": {
   "codemirror_mode": {
    "name": "ipython",
    "version": 3
   },
   "file_extension": ".py",
   "mimetype": "text/x-python",
   "name": "python",
   "nbconvert_exporter": "python",
   "pygments_lexer": "ipython3",
   "version": "3.9.21"
  }
 },
 "nbformat": 4,
 "nbformat_minor": 5
}
