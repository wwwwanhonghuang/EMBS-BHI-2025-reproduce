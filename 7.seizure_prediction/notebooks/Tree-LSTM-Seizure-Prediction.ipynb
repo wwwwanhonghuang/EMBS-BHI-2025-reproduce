{
 "cells": [
  {
   "cell_type": "markdown",
   "id": "1af6ac4e-fd64-4a46-90df-dcca726d464d",
   "metadata": {},
   "source": [
    "# 0. Prepare the dependencies"
   ]
  },
  {
   "cell_type": "code",
   "execution_count": null,
   "id": "aa1d7a79",
   "metadata": {},
   "outputs": [],
   "source": [
    "!pip3 install torch torchvision torchaudio --index-url https://download.pytorch.org/whl/cpu"
   ]
  },
  {
   "cell_type": "code",
   "execution_count": null,
   "id": "064742a9",
   "metadata": {},
   "outputs": [],
   "source": [
    "# 1. install pytorch\n",
    "  ## Please follow instruction in https://pytorch.org/get-started/locally/\n",
    "\n",
    "# 2. install torch-geometric\n",
    "!pip install torch-geometric"
   ]
  },
  {
   "cell_type": "code",
   "execution_count": 1,
   "id": "8903c030-e46e-48a6-b236-570bbf1f3ead",
   "metadata": {},
   "outputs": [],
   "source": [
    "from tqdm import tqdm\n",
    "import torch"
   ]
  },
  {
   "cell_type": "markdown",
   "id": "7c66a87e-b27e-4e1b-bef1-bda347b2e311",
   "metadata": {},
   "source": [
    "# 1. Prepare data structure and configurations"
   ]
  },
  {
   "cell_type": "code",
   "execution_count": 2,
   "id": "d49c9cee-0971-4436-8418-d391450812de",
   "metadata": {},
   "outputs": [],
   "source": [
    "from data_structures.tree import SyntaxTreeNode\n",
    "from dataset.tree_dataset import TreeDataset"
   ]
  },
  {
   "cell_type": "markdown",
   "id": "231525d4-f395-4666-829e-fbfef002f5ed",
   "metadata": {},
   "source": [
    "# 2. Prepare Dataset"
   ]
  },
  {
   "cell_type": "code",
   "execution_count": 3,
   "id": "f6174582-3e60-45b4-bc2b-1bc04129253b",
   "metadata": {},
   "outputs": [],
   "source": [
    "from dataset.samplers import ProportionalWeightedRandomSamplerBuilder\n",
    "from dataset.dataset_splitter import RatioBasedDataSetSplitter\n",
    "from dataset.data_loader_builder import default_supervised_collate_fn, DataLoaderBuilder"
   ]
  },
  {
   "cell_type": "code",
   "execution_count": 1,
   "id": "fdc48ff0-acf2-4ad7-ba9d-50761185721f",
   "metadata": {},
   "outputs": [],
   "source": [
    "n_classes = 3"
   ]
  },
  {
   "cell_type": "code",
   "execution_count": null,
   "id": "8e5ca5fd",
   "metadata": {},
   "outputs": [],
   "source": [
    "tree_records_base_path = \"../data/serialized_tree\"\n",
    "dataset_types = [\"normal-retained\", \"seizure\", \"pre-epileptic\"]\n",
    "dataset = TreeDataset(dataset_types, tree_records_base_path)"
   ]
  },
  {
   "cell_type": "code",
   "execution_count": null,
   "id": "e9fcba41-3291-4e6e-926f-f77b8c3caf75",
   "metadata": {},
   "outputs": [],
   "source": [
    "dataset_splitter = RatioBasedDataSetSplitter(dataset)"
   ]
  },
  {
   "cell_type": "code",
   "execution_count": null,
   "id": "4b0fd9d6",
   "metadata": {},
   "outputs": [],
   "source": [
    "splitted_dataset = dataset_splitter.split_dataset()"
   ]
  },
  {
   "cell_type": "code",
   "execution_count": null,
   "id": "7a4187a8-2285-48d1-87d3-4fa2ba3b4573",
   "metadata": {},
   "outputs": [],
   "source": [
    "train_subset = splitted_dataset[\"train_set\"]\n",
    "val_subset = splitted_dataset[\"val_set\"]\n",
    "test_subset = splitted_dataset[\"test_set\"]"
   ]
  },
  {
   "cell_type": "code",
   "execution_count": null,
   "id": "07bed99c-237d-401a-ba1e-c189a89db194",
   "metadata": {},
   "outputs": [],
   "source": [
    "train_labels = [dataset.labels[i] for i in splitted_dataset[\"train_set_indexes\"]]"
   ]
  },
  {
   "cell_type": "code",
   "execution_count": null,
   "id": "7e9583b3-e768-4871-ae51-10c819de65c4",
   "metadata": {},
   "outputs": [],
   "source": [
    "sampler_builder = ProportionalWeightedRandomSamplerBuilder()\n",
    "sampler, weights = sampler_builder.build(n_classes = 3, labels = train_labels, return_weights = True)"
   ]
  },
  {
   "cell_type": "code",
   "execution_count": null,
   "id": "3d06f176",
   "metadata": {},
   "outputs": [],
   "source": [
    "weights, sampler"
   ]
  },
  {
   "cell_type": "code",
   "execution_count": null,
   "id": "4ca43ef8-daf1-4c59-b828-535c6322a034",
   "metadata": {},
   "outputs": [],
   "source": [
    "# A function that describe how pytorch to generate a representation of batch.\n",
    "# This function if needed if the dataset return a data structure that the pytorch cannot recognize, e.g., the TreeNode above.\n",
    "def collate_fn(batch):\n",
    "    # Extract trees and labels from the batch\n",
    "    trees = [item[\"tree\"] for item in batch]\n",
    "    labels = torch.stack([item[\"labels\"] for item in batch])\n",
    "\n",
    "    # Return the batch as a dictionary\n",
    "    return {\"tree\": trees, \"labels\": labels}"
   ]
  },
  {
   "cell_type": "code",
   "execution_count": null,
   "id": "e7d039cc-a134-47f5-925e-505446d986e8",
   "metadata": {},
   "outputs": [],
   "source": [
    "data_loader_builder = DataLoaderBuilder()\n",
    "data_loaders = data_loader_builder.build(train_subset, val_subset, test_subset, train_sampler = sampler, batch_size = 32,\n",
    "                         collate_fn_train = collate_fn, collate_fn_val = collate_fn, collate_fn_test = collate_fn)"
   ]
  },
  {
   "cell_type": "code",
   "execution_count": null,
   "id": "f5891f05-5635-41a9-8950-25fbcfa9489b",
   "metadata": {},
   "outputs": [],
   "source": [
    "train_loader = data_loaders[\"train_loader\"]\n",
    "val_loader = data_loaders[\"val_loader\"]\n",
    "test_loader = data_loaders[\"test_loader\"]"
   ]
  },
  {
   "cell_type": "code",
   "execution_count": null,
   "id": "b9d68447-949b-4534-aa83-c8ef0b313d35",
   "metadata": {},
   "outputs": [],
   "source": [
    "# Function to print the count of each label in the dataset\n",
    "def print_label_counts(loader, dataset_type=\"train\"):\n",
    "    # Initialize label counts\n",
    "    label_counts = {0: 0, 1: 0, 2: 0}  # Assuming 3 classes (normal=0, seizure=1, pre-epileptic=2)\n",
    "    \n",
    "    # Iterate over the dataset in the loader to count each label\n",
    "    for sample in tqdm(loader):\n",
    "        labels = sample[\"labels\"]\n",
    "        for label in labels:\n",
    "            label_counts[label.item()] += 1\n",
    "    for label, count in label_counts.items():\n",
    "        print(f\"Class {label}: {count} samples\")\n",
    "\n",
    "# # Print label counts for train, validation, and test loaders\n",
    "# print_label_counts(train_loader, dataset_type=\"train\")\n",
    "# print_label_counts(val_loader, dataset_type=\"validation\")\n",
    "# print_label_counts(test_loader, dataset_type=\"test\")"
   ]
  },
  {
   "cell_type": "markdown",
   "id": "eec648e3-8573-47f7-b422-b91b47d351b8",
   "metadata": {},
   "source": [
    "# 3. Prepare Model"
   ]
  },
  {
   "cell_type": "code",
   "execution_count": null,
   "id": "49638cbb-6667-4ace-a432-ffe242f21d7f",
   "metadata": {},
   "outputs": [],
   "source": [
    "from models.tree_lstm import SeizurePredictionInputEmbeddingPreprocessor, BinaryTreeLSTMCell, BinaryTreeLSTM\n",
    "from utils.utils import calculate_metrics"
   ]
  },
  {
   "cell_type": "code",
   "execution_count": null,
   "id": "774e4192-5b01-4964-9bc4-e5ccb9637755",
   "metadata": {},
   "outputs": [],
   "source": [
    "import torch.optim as optim\n",
    "import torch\n",
    "from torch import nn\n",
    "from tqdm import tqdm\n",
    "from sklearn.metrics import confusion_matrix\n",
    "import numpy as np\n",
    "\n",
    "# Hyperparameters\n",
    "input_size = 32 * 3 + 64 + 1  # Size of the node value tuple\n",
    "hidden_size = 64\n",
    "num_classes = 3  # Normal, seizure, pre-epileptic\n",
    "learning_rate = 0.001\n",
    "num_epochs = 10\n",
    "\n",
    "# Initialize model, loss function, and optimizer\n",
    "embedding_model = SeizurePredictionInputEmbeddingPreprocessor(unique_symbols = 96, \\\n",
    "                                                              symbol_embedding_size = 32, \\\n",
    "                                                              unique_grammar = 182, \\\n",
    "                                                              grammar_embedding_size = 64)\n",
    "model = BinaryTreeLSTM(input_size, hidden_size, num_classes, input_embedding_model = embedding_model)\n",
    "criterion = nn.CrossEntropyLoss()\n",
    "optimizer = optim.Adam(model.parameters(), lr=learning_rate)\n"
   ]
  },
  {
   "cell_type": "code",
   "execution_count": null,
   "id": "45bec31a-0fe3-4dae-8aa7-2c88b758cf8d",
   "metadata": {},
   "outputs": [],
   "source": [
    "def forwarding(batch):\n",
    "    trees = batch[\"tree\"]\n",
    "    labels = batch[\"labels\"]\n",
    "    logits, nodes, edges = model(trees)\n",
    "    print(nodes, edges)\n",
    "    loss = criterion(logits, labels)\n",
    "    return logits, labels, loss\n",
    "\n",
    "enable_summary_confusion_matrix = True\n",
    "\n",
    "# Training loop\n",
    "for epoch in range(num_epochs):\n",
    "    model.train()\n",
    "    total_loss = 0\n",
    "    if enable_summary_confusion_matrix:\n",
    "        all_preds = []\n",
    "        all_labels = []\n",
    "    \n",
    "    for batch in tqdm(train_loader):\n",
    "        # Forward pass\n",
    "        logits, labels, loss = forwarding(batch)\n",
    "        \n",
    "        raise ValueError\n",
    "        # Backward pass\n",
    "        optimizer.zero_grad()\n",
    "        loss.backward()\n",
    "        optimizer.step()\n",
    "\n",
    "        total_loss += loss.item()\n",
    "\n",
    "        if enable_summary_confusion_matrix:\n",
    "            # Store predictions and labels for metrics\n",
    "            preds = torch.argmax(logits, dim=1)\n",
    "            all_preds.extend(preds.cpu().numpy())\n",
    "            all_labels.extend(labels.cpu().numpy())\n",
    "\n",
    "    if enable_summary_confusion_matrix:\n",
    "        # Calculate training metrics\n",
    "        train_conf_matrix = confusion_matrix(all_labels, all_preds)\n",
    "        train_metrics = calculate_metrics(train_conf_matrix)\n",
    "    \n",
    "        print(f\"Epoch {epoch + 1}, Loss: {total_loss:.4f}\")\n",
    "        print(f\"Training Metrics: {train_metrics}\")\n",
    "    print(f\"Training Loss: {total_loss:.4f}\")\n",
    "    \n",
    "    if enable_summary_confusion_matrix:\n",
    "        print(f\"Training Metrics: {train_metrics}\")\n",
    "    \n",
    "    # Validation\n",
    "    model.eval()\n",
    "    val_loss = 0\n",
    "    if enable_summary_confusion_matrix:\n",
    "        val_preds = []\n",
    "        val_labels = []\n",
    "\n",
    "    with torch.no_grad():\n",
    "        for batch in tqdm(val_loader):\n",
    "            trees = batch[\"tree\"]\n",
    "            labels = batch[\"labels\"]\n",
    "    \n",
    "            # Forward pass\n",
    "            logits = model(trees)\n",
    "            loss = criterion(logits, labels)\n",
    "            \n",
    "            val_loss += loss.item()\n",
    "            \n",
    "            if enable_summary_confusion_matrix:\n",
    "                preds = torch.argmax(logits, dim=1)\n",
    "                val_preds.extend(preds.cpu().numpy())\n",
    "                val_labels.extend(labels.cpu().numpy())\n",
    "    \n",
    "    if enable_summary_confusion_matrix:\n",
    "        val_conf_matrix = confusion_matrix(val_labels, val_preds)\n",
    "        val_metrics = calculate_metrics(val_conf_matrix)\n",
    "        \n",
    "    print(f\"Validation Loss: {val_loss:.4f}\")\n",
    "    \n",
    "    if enable_summary_confusion_matrix:\n",
    "        print(f\"Validation Metrics: {val_metrics}\")\n",
    "    \n",
    "    print(f\"Epoch [{epoch+1}/{num_epochs}], Loss: {loss.item():.4f}\")"
   ]
  }
 ],
 "metadata": {
  "kernelspec": {
   "display_name": "embc2025",
   "language": "python",
   "name": "python3"
  },
  "language_info": {
   "codemirror_mode": {
    "name": "ipython",
    "version": 3
   },
   "file_extension": ".py",
   "mimetype": "text/x-python",
   "name": "python",
   "nbconvert_exporter": "python",
   "pygments_lexer": "ipython3",
   "version": "3.9.21"
  }
 },
 "nbformat": 4,
 "nbformat_minor": 5
}
