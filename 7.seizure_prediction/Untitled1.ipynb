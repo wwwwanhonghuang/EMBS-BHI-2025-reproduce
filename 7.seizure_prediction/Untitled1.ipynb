{
 "cells": [
  {
   "cell_type": "code",
   "execution_count": 3,
   "id": "585dfc87-ee67-47f0-96a9-93d579609a32",
   "metadata": {},
   "outputs": [],
   "source": [
    "from sklearn.metrics import confusion_matrix\n",
    "\n",
    "val_conf_matrix = confusion_matrix([0, 0, 1, 2], [1, 0, 1, 2])\n"
   ]
  },
  {
   "cell_type": "code",
   "execution_count": 4,
   "id": "bc4f2d5b-e4a2-4af1-b881-f69da41bab06",
   "metadata": {},
   "outputs": [
    {
     "data": {
      "text/plain": [
       "array([[1, 1, 0],\n",
       "       [0, 1, 0],\n",
       "       [0, 0, 1]])"
      ]
     },
     "execution_count": 4,
     "metadata": {},
     "output_type": "execute_result"
    }
   ],
   "source": [
    "val_conf_matrix"
   ]
  },
  {
   "cell_type": "code",
   "execution_count": 7,
   "id": "c3e70342-252f-4d17-83aa-686eea554578",
   "metadata": {},
   "outputs": [],
   "source": [
    "import numpy as np\n",
    "def calculate_metrics(conf_matrix):\n",
    "    \"\"\"\n",
    "    Calculate accuracy, TPR, FPR, TNR, FNR, F1, and F2 from a confusion matrix.\n",
    "    Args:\n",
    "        conf_matrix: Confusion matrix (3x3 for 3 classes).\n",
    "    Returns:\n",
    "        Dictionary of metrics.\n",
    "    \"\"\"\n",
    "    metrics = {}\n",
    "    \n",
    "    # True Positives (diagonal of the confusion matrix)\n",
    "    TP = np.diag(conf_matrix)\n",
    "    \n",
    "    # False Positives (sum of columns minus diagonal)\n",
    "    FP = np.sum(conf_matrix, axis=0) - TP\n",
    "    \n",
    "    # False Negatives (sum of rows minus diagonal)\n",
    "    FN = np.sum(conf_matrix, axis=1) - TP\n",
    "    \n",
    "    # True Negatives (total samples minus TP, FP, FN)\n",
    "    TN = np.sum(conf_matrix) - (TP + FP + FN)\n",
    "    \n",
    "    # Accuracy\n",
    "    metrics[\"accuracy\"] = np.sum(TP) / np.sum(conf_matrix)\n",
    "    \n",
    "    # True Positive Rate (Recall)\n",
    "    metrics[\"TPR\"] = np.divide(TP, TP + FN, where=(TP + FN) != 0)\n",
    "    \n",
    "    # False Positive Rate\n",
    "    metrics[\"FPR\"] = np.divide(FP, FP + TN, where=(FP + TN) != 0)\n",
    "    \n",
    "    # True Negative Rate\n",
    "    metrics[\"TNR\"] = np.divide(TN, TN + FP, where=(TN + FP) != 0)\n",
    "    \n",
    "    # False Negative Rate\n",
    "    metrics[\"FNR\"] = np.divide(FN, TP + FN, where=(TP + FN) != 0)\n",
    "    \n",
    "    # Precision\n",
    "    precision = np.divide(TP, TP + FP, where=(TP + FP) != 0)\n",
    "    \n",
    "    # F1 Score\n",
    "    metrics[\"F1\"] = np.divide(2 * (precision * metrics[\"TPR\"]), (precision + metrics[\"TPR\"]), where=(precision + metrics[\"TPR\"]) != 0)\n",
    "    \n",
    "    # F2 Score\n",
    "    metrics[\"F2\"] = np.divide(5 * (precision * metrics[\"TPR\"]), (4 * precision + metrics[\"TPR\"]), where=(4 * precision + metrics[\"TPR\"]) != 0)\n",
    "    \n",
    "    return metrics"
   ]
  },
  {
   "cell_type": "code",
   "execution_count": 8,
   "id": "7bd33f6d-bb34-414f-b58d-52d3733d98d3",
   "metadata": {},
   "outputs": [
    {
     "data": {
      "text/plain": [
       "{'accuracy': np.float64(0.75),\n",
       " 'TPR': array([0.5, 1. , 1. ]),\n",
       " 'FPR': array([0.        , 0.33333333, 0.        ]),\n",
       " 'TNR': array([1.        , 0.66666667, 1.        ]),\n",
       " 'FNR': array([0.5, 0. , 0. ]),\n",
       " 'F1': array([0.66666667, 0.66666667, 1.        ]),\n",
       " 'F2': array([0.55555556, 0.83333333, 1.        ])}"
      ]
     },
     "execution_count": 8,
     "metadata": {},
     "output_type": "execute_result"
    }
   ],
   "source": [
    "calculate_metrics(val_conf_matrix)"
   ]
  },
  {
   "cell_type": "code",
   "execution_count": null,
   "id": "0e69a3d2-c870-455f-9893-2c8471216ee6",
   "metadata": {},
   "outputs": [],
   "source": []
  }
 ],
 "metadata": {
  "kernelspec": {
   "display_name": "Python 3 (ipykernel)",
   "language": "python",
   "name": "python3"
  },
  "language_info": {
   "codemirror_mode": {
    "name": "ipython",
    "version": 3
   },
   "file_extension": ".py",
   "mimetype": "text/x-python",
   "name": "python",
   "nbconvert_exporter": "python",
   "pygments_lexer": "ipython3",
   "version": "3.9.21"
  }
 },
 "nbformat": 4,
 "nbformat_minor": 5
}
